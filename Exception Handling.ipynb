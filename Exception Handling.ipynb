{
 "cells": [
  {
   "cell_type": "markdown",
   "id": "ed65fa63-0182-4ffe-9a81-515c3a52725f",
   "metadata": {},
   "source": [
    "## **Exception Handling**"
   ]
  },
  {
   "cell_type": "code",
   "execution_count": 5,
   "id": "445cd6b5-8a33-43ac-8bb2-bc82904ee5e0",
   "metadata": {},
   "outputs": [
    {
     "name": "stdin",
     "output_type": "stream",
     "text": [
      "Input the first number: 100\n",
      "Input the second number: 0\n"
     ]
    },
    {
     "ename": "ZeroDivisionError",
     "evalue": "division by zero",
     "output_type": "error",
     "traceback": [
      "\u001b[1;31m---------------------------------------------------------------------------\u001b[0m",
      "\u001b[1;31mZeroDivisionError\u001b[0m                         Traceback (most recent call last)",
      "Cell \u001b[1;32mIn[5], line 3\u001b[0m\n\u001b[0;32m      1\u001b[0m num1 \u001b[38;5;241m=\u001b[39m \u001b[38;5;28mint\u001b[39m(\u001b[38;5;28minput\u001b[39m(\u001b[38;5;124m\"\u001b[39m\u001b[38;5;124mInput the first number:\u001b[39m\u001b[38;5;124m\"\u001b[39m))\n\u001b[0;32m      2\u001b[0m num2 \u001b[38;5;241m=\u001b[39m \u001b[38;5;28mint\u001b[39m(\u001b[38;5;28minput\u001b[39m(\u001b[38;5;124m\"\u001b[39m\u001b[38;5;124mInput the second number:\u001b[39m\u001b[38;5;124m\"\u001b[39m))\n\u001b[1;32m----> 3\u001b[0m result \u001b[38;5;241m=\u001b[39m \u001b[43mnum1\u001b[49m\u001b[43m \u001b[49m\u001b[38;5;241;43m/\u001b[39;49m\u001b[43m \u001b[49m\u001b[43mnum2\u001b[49m\n\u001b[0;32m      4\u001b[0m \u001b[38;5;28mprint\u001b[39m (\u001b[38;5;124mf\u001b[39m\u001b[38;5;124m\"\u001b[39m\u001b[38;5;124mSo \u001b[39m\u001b[38;5;132;01m{\u001b[39;00mnum1\u001b[38;5;132;01m}\u001b[39;00m\u001b[38;5;124m / \u001b[39m\u001b[38;5;132;01m{\u001b[39;00mnum2\u001b[38;5;132;01m}\u001b[39;00m\u001b[38;5;124m = \u001b[39m\u001b[38;5;132;01m{\u001b[39;00mresult\u001b[38;5;132;01m}\u001b[39;00m\u001b[38;5;124m\"\u001b[39m)\n\u001b[0;32m      5\u001b[0m \u001b[38;5;28mprint\u001b[39m (\u001b[38;5;124m\"\u001b[39m\u001b[38;5;124mEnd of the program...\u001b[39m\u001b[38;5;124m\"\u001b[39m)\n",
      "\u001b[1;31mZeroDivisionError\u001b[0m: division by zero"
     ]
    }
   ],
   "source": [
    "num1 = int(input(\"Input the first number:\"))\n",
    "num2 = int(input(\"Input the second number:\"))\n",
    "result = num1 / num2\n",
    "print (f\"So {num1} / {num2} = {result}\")\n",
    "print (\"End of the program...\")"
   ]
  },
  {
   "cell_type": "code",
   "execution_count": 7,
   "id": "0ba258e6-fa99-4d49-a6ab-e8eb084025fb",
   "metadata": {},
   "outputs": [
    {
     "name": "stdin",
     "output_type": "stream",
     "text": [
      "Input the first number: 100\n",
      "Input the second number: two\n"
     ]
    },
    {
     "ename": "ValueError",
     "evalue": "invalid literal for int() with base 10: 'two'",
     "output_type": "error",
     "traceback": [
      "\u001b[1;31m---------------------------------------------------------------------------\u001b[0m",
      "\u001b[1;31mValueError\u001b[0m                                Traceback (most recent call last)",
      "Cell \u001b[1;32mIn[7], line 3\u001b[0m\n\u001b[0;32m      1\u001b[0m \u001b[38;5;28;01mtry\u001b[39;00m:\n\u001b[0;32m      2\u001b[0m     num1 \u001b[38;5;241m=\u001b[39m \u001b[38;5;28mint\u001b[39m(\u001b[38;5;28minput\u001b[39m(\u001b[38;5;124m\"\u001b[39m\u001b[38;5;124mInput the first number:\u001b[39m\u001b[38;5;124m\"\u001b[39m))\n\u001b[1;32m----> 3\u001b[0m     num2 \u001b[38;5;241m=\u001b[39m \u001b[38;5;28;43mint\u001b[39;49m\u001b[43m(\u001b[49m\u001b[38;5;28;43minput\u001b[39;49m\u001b[43m(\u001b[49m\u001b[38;5;124;43m\"\u001b[39;49m\u001b[38;5;124;43mInput the second number:\u001b[39;49m\u001b[38;5;124;43m\"\u001b[39;49m\u001b[43m)\u001b[49m\u001b[43m)\u001b[49m\n\u001b[0;32m      4\u001b[0m     result \u001b[38;5;241m=\u001b[39m num1 \u001b[38;5;241m/\u001b[39m num2\n\u001b[0;32m      5\u001b[0m     \u001b[38;5;28mprint\u001b[39m (\u001b[38;5;124mf\u001b[39m\u001b[38;5;124m\"\u001b[39m\u001b[38;5;124mSo \u001b[39m\u001b[38;5;132;01m{\u001b[39;00mnum1\u001b[38;5;132;01m}\u001b[39;00m\u001b[38;5;124m / \u001b[39m\u001b[38;5;132;01m{\u001b[39;00mnum2\u001b[38;5;132;01m}\u001b[39;00m\u001b[38;5;124m = \u001b[39m\u001b[38;5;132;01m{\u001b[39;00mresult\u001b[38;5;132;01m}\u001b[39;00m\u001b[38;5;124m\"\u001b[39m)\n",
      "\u001b[1;31mValueError\u001b[0m: invalid literal for int() with base 10: 'two'"
     ]
    }
   ],
   "source": [
    "try:\n",
    "    num1 = int(input(\"Input the first number:\"))\n",
    "    num2 = int(input(\"Input the second number:\"))\n",
    "    result = num1 / num2\n",
    "    print (f\"So {num1} / {num2} = {result}\")\n",
    "except ZeroDivisionError as zde:\n",
    "    print (\"ZeroDivisionError: Division by ZERO is Illegal...!!!\")\n",
    "    print (\"ZeroDivisionError: Error type:\", type(zde))\n",
    "    print (\"ZeroDivisionError: Error message:\", zde)\n",
    "print (\"End of the program...\")"
   ]
  },
  {
   "cell_type": "code",
   "execution_count": 12,
   "id": "269cb730-a3fd-4656-a479-7ce1320913ec",
   "metadata": {},
   "outputs": [
    {
     "name": "stdin",
     "output_type": "stream",
     "text": [
      "Input the first number: 100\n",
      "Input the second number: 2.5\n"
     ]
    },
    {
     "name": "stdout",
     "output_type": "stream",
     "text": [
      "ValueError: Please provide integer numbers...!!!\n",
      "ValueError: Error type: <class 'ValueError'>\n",
      "ValueError: Error message: invalid literal for int() with base 10: '2.5'\n",
      "End of the program...\n"
     ]
    }
   ],
   "source": [
    "try:\n",
    "    num1 = int(input(\"Input the first number:\"))\n",
    "    num2 = int(input(\"Input the second number:\"))\n",
    "    result = num1 / num2\n",
    "    print (f\"So {num1} / {num2} = {result}\")\n",
    "except ValueError as ve:\n",
    "    print (\"ValueError: Please provide integer numbers...!!!\")\n",
    "    print (\"ValueError: Error type:\", type(ve))\n",
    "    print (\"ValueError: Error message:\", ve)\n",
    "except ZeroDivisionError as zde:\n",
    "    print (\"ZeroDivisionError: Division by ZERO is Illegal...!!!\")\n",
    "    print (\"ZeroDivisionError: Error type:\", type(zde))\n",
    "    print (\"ZeroDivisionError: Error message:\", zde)\n",
    "print (\"End of the program...\")"
   ]
  },
  {
   "cell_type": "code",
   "execution_count": null,
   "id": "c990d127-2197-4786-a551-2543dc94e0ae",
   "metadata": {},
   "outputs": [],
   "source": [
    "https://docs.python.org/3.9/library/exceptions.html"
   ]
  },
  {
   "cell_type": "code",
   "execution_count": 21,
   "id": "d668d3f1-3bf3-4e9b-83b3-842e47d8e3e4",
   "metadata": {},
   "outputs": [
    {
     "name": "stdin",
     "output_type": "stream",
     "text": [
      "Input the first number: 100\n",
      "Input the second number: two\n"
     ]
    },
    {
     "name": "stdout",
     "output_type": "stream",
     "text": [
      "ValueError: Please provide integer numbers...!!!\n",
      "ValueError: Error type: <class 'ValueError'>\n",
      "ValueError: Error message: invalid literal for int() with base 10: 'two'\n",
      "End of the program...\n"
     ]
    }
   ],
   "source": [
    "try:\n",
    "    num1 = int(input(\"Input the first number:\"))\n",
    "    num2 = int(input(\"Input the second number:\"))\n",
    "    result = num1 / num2\n",
    "    print (f\"So {num1} / {num2} = {result}\")\n",
    "except ValueError as ve:\n",
    "    print (\"ValueError: Please provide integer numbers...!!!\")\n",
    "    print (\"ValueError: Error type:\", type(ve))\n",
    "    print (\"ValueError: Error message:\", ve)\n",
    "except ZeroDivisionError as zde:\n",
    "    print (\"ZeroDivisionError: Division by ZERO is Illegal...!!!\")\n",
    "    print (\"ZeroDivisionError: Error type:\", type(zde))\n",
    "    print (\"ZeroDivisionError: Error message:\", zde)\n",
    "except Exception as ex:\n",
    "    print (\"Exception: Some other ERROR caused...!!!\")\n",
    "    print (\"Exception: Error type:\", type(ex))\n",
    "    print (\"Exception: Error message:\", ex)\n",
    "print (\"End of the program...\")"
   ]
  },
  {
   "cell_type": "code",
   "execution_count": 25,
   "id": "81cce49d-dc1a-4eed-b5bf-d106a48c5b1c",
   "metadata": {},
   "outputs": [
    {
     "name": "stdin",
     "output_type": "stream",
     "text": [
      "Input the first number: 100\n",
      "Input the second number: 0\n"
     ]
    },
    {
     "name": "stdout",
     "output_type": "stream",
     "text": [
      "ZeroDivisionError: Division by ZERO is Illegal...!!!\n",
      "ZeroDivisionError: Error type: <class 'ZeroDivisionError'>\n",
      "ZeroDivisionError: Error message: division by zero\n",
      "Finally: FINALLY block is executing...\n",
      "Finally: This block executes always...\n",
      "End of the program...\n"
     ]
    }
   ],
   "source": [
    "try:\n",
    "    num1 = int(input(\"Input the first number:\"))\n",
    "    num2 = int(input(\"Input the second number:\"))\n",
    "    result = num1 / num2\n",
    "    print (f\"So {num1} / {num2} = {result}\")\n",
    "except ValueError as ve:\n",
    "    print (\"ValueError: Please provide integer numbers...!!!\")\n",
    "    print (\"ValueError: Error type:\", type(ve))\n",
    "    print (\"ValueError: Error message:\", ve)\n",
    "except ZeroDivisionError as zde:\n",
    "    print (\"ZeroDivisionError: Division by ZERO is Illegal...!!!\")\n",
    "    print (\"ZeroDivisionError: Error type:\", type(zde))\n",
    "    print (\"ZeroDivisionError: Error message:\", zde)\n",
    "except Exception as ex:\n",
    "    print (\"Exception: Some other ERROR caused...!!!\")\n",
    "    print (\"Exception: Error type:\", type(ex))\n",
    "    print (\"Exception: Error message:\", ex)\n",
    "else:\n",
    "    print (\"Else: ELSE clock is executing...\")\n",
    "    print (\"Else: Had a smooth execution...\")\n",
    "finally:\n",
    "    print (\"Finally: FINALLY block is executing...\")\n",
    "    print (\"Finally: This block executes always...\")\n",
    "print (\"End of the program...\")"
   ]
  },
  {
   "cell_type": "code",
   "execution_count": 32,
   "id": "011c3cc9-01ac-492d-bd11-2a3d172d20f4",
   "metadata": {},
   "outputs": [
    {
     "name": "stdin",
     "output_type": "stream",
     "text": [
      "Input the first number: 900\n",
      "Input the second number: 20\n"
     ]
    },
    {
     "name": "stdout",
     "output_type": "stream",
     "text": [
      "NameError: Out of range Exception...!!!\n",
      "NameError: Above +100 input is given...\n",
      "Finally: FINALLY block is executing...\n",
      "Finally: This block executes always...\n"
     ]
    },
    {
     "name": "stdin",
     "output_type": "stream",
     "text": [
      "Input the first number: 40\n",
      "Input the second number: -900\n"
     ]
    },
    {
     "name": "stdout",
     "output_type": "stream",
     "text": [
      "NameError: Out of range Exception...!!!\n",
      "NameError: Below -100 input is given...\n",
      "Finally: FINALLY block is executing...\n",
      "Finally: This block executes always...\n"
     ]
    },
    {
     "name": "stdin",
     "output_type": "stream",
     "text": [
      "Input the first number: 100\n",
      "Input the second number: 0\n"
     ]
    },
    {
     "name": "stdout",
     "output_type": "stream",
     "text": [
      "ZeroDivisionError: Division by ZERO is Illegal...!!!\n",
      "ZeroDivisionError: Error type: <class 'ZeroDivisionError'>\n",
      "ZeroDivisionError: Error message: division by zero\n",
      "Finally: FINALLY block is executing...\n",
      "Finally: This block executes always...\n"
     ]
    },
    {
     "name": "stdin",
     "output_type": "stream",
     "text": [
      "Input the first number: 100.5\n"
     ]
    },
    {
     "name": "stdout",
     "output_type": "stream",
     "text": [
      "ValueError: Please provide integer numbers...!!!\n",
      "ValueError: Error type: <class 'ValueError'>\n",
      "ValueError: Error message: invalid literal for int() with base 10: '100.5'\n",
      "Finally: FINALLY block is executing...\n",
      "Finally: This block executes always...\n"
     ]
    },
    {
     "name": "stdin",
     "output_type": "stream",
     "text": [
      "Input the first number: 80\n",
      "Input the second number: 16\n"
     ]
    },
    {
     "name": "stdout",
     "output_type": "stream",
     "text": [
      "So 80 / 16 = 5.0\n",
      "Else: ELSE clock is executing...\n",
      "Else: Had a smooth execution...\n",
      "Finally: FINALLY block is executing...\n",
      "Finally: This block executes always...\n",
      "End of the program...\n"
     ]
    }
   ],
   "source": [
    "while(True):\n",
    "    try:\n",
    "        num1 = int(input(\"Input the first number:\"))\n",
    "        num2 = int(input(\"Input the second number:\"))\n",
    "        if (num1 > 100 or num2 > 100):\n",
    "            raise NameError(\"Above+100\")\n",
    "        if (num1 < -100 or num2 < -100):\n",
    "            raise NameError(\"Below-100\")\n",
    "        result = num1 / num2\n",
    "        print (f\"So {num1} / {num2} = {result}\")\n",
    "    except NameError as ne:\n",
    "        print (\"NameError: Out of range Exception...!!!\")\n",
    "        if (str(ne) == \"Above+100\"):\n",
    "            print (\"NameError: Above +100 input is given...\")\n",
    "        if (str(ne) == \"Below-100\"):\n",
    "            print (\"NameError: Below -100 input is given...\")\n",
    "    except ValueError as ve:\n",
    "        print (\"ValueError: Please provide integer numbers...!!!\")\n",
    "        print (\"ValueError: Error type:\", type(ve))\n",
    "        print (\"ValueError: Error message:\", ve)\n",
    "    except ZeroDivisionError as zde:\n",
    "        print (\"ZeroDivisionError: Division by ZERO is Illegal...!!!\")\n",
    "        print (\"ZeroDivisionError: Error type:\", type(zde))\n",
    "        print (\"ZeroDivisionError: Error message:\", zde)\n",
    "    except Exception as ex:\n",
    "        print (\"Exception: Some other ERROR caused...!!!\")\n",
    "        print (\"Exception: Error type:\", type(ex))\n",
    "        print (\"Exception: Error message:\", ex)\n",
    "    else:\n",
    "        print (\"Else: ELSE clock is executing...\")\n",
    "        print (\"Else: Had a smooth execution...\")\n",
    "        break\n",
    "    finally:\n",
    "        print (\"Finally: FINALLY block is executing...\")\n",
    "        print (\"Finally: This block executes always...\")\n",
    "print (\"End of the program...\")"
   ]
  },
  {
   "cell_type": "code",
   "execution_count": null,
   "id": "6e18871a-155c-450c-8814-2ee0727d16b3",
   "metadata": {},
   "outputs": [],
   "source": []
  }
 ],
 "metadata": {
  "kernelspec": {
   "display_name": "Python 3 (ipykernel)",
   "language": "python",
   "name": "python3"
  },
  "language_info": {
   "codemirror_mode": {
    "name": "ipython",
    "version": 3
   },
   "file_extension": ".py",
   "mimetype": "text/x-python",
   "name": "python",
   "nbconvert_exporter": "python",
   "pygments_lexer": "ipython3",
   "version": "3.10.9"
  }
 },
 "nbformat": 4,
 "nbformat_minor": 5
}

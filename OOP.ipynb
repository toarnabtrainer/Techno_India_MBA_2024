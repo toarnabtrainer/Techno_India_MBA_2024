{
 "cells": [
  {
   "cell_type": "markdown",
   "id": "367e0c85",
   "metadata": {},
   "source": [
    "## **OOP with Python**"
   ]
  },
  {
   "cell_type": "markdown",
   "id": "90fc2676",
   "metadata": {},
   "source": [
    "> Procedural languages lack in encapsulation, difficult to manage when code size > 10 KLOC, variables are unprotected, no automatic memory management by deleting dereferenced variables.\n",
    "\n",
    "> A class in Python can not have empty body, it must have a document statement or a pass statement."
   ]
  },
  {
   "cell_type": "code",
   "execution_count": 9,
   "id": "cb2b9832",
   "metadata": {},
   "outputs": [
    {
     "name": "stdout",
     "output_type": "stream",
     "text": [
      "This is a document statement\n",
      "    describing the purpose\n",
      "    of the class\n",
      "This is a document statement\n",
      "    describing the purpose\n",
      "    of the class\n"
     ]
    }
   ],
   "source": [
    "class MyFirstClass:\n",
    "    '''This is a document statement\n",
    "    describing the purpose\n",
    "    of the class'''\n",
    "\n",
    "ob1 = MyFirstClass()\n",
    "print (ob1.__doc__)\n",
    "print (MyFirstClass.__doc__)"
   ]
  },
  {
   "cell_type": "code",
   "execution_count": 10,
   "id": "b2f6fd36",
   "metadata": {},
   "outputs": [],
   "source": [
    "class MyFirstClass:\n",
    "    pass    # statement place holder\n",
    "\n",
    "ob1 = MyFirstClass()"
   ]
  },
  {
   "cell_type": "code",
   "execution_count": 11,
   "id": "3247d87a",
   "metadata": {},
   "outputs": [
    {
     "name": "stdout",
     "output_type": "stream",
     "text": [
      "Executing the constructor method...\n",
      "self = <__main__.MyFirstClass object at 0x00000172CA1C4850>\n",
      "Executing display() method...\n",
      "class variable class_var1 = 100 and 100...\n",
      "instance variable inst_var1 = 111...\n",
      "This is a document string...\n",
      "This is a document string...\n",
      "Updating class or static variable...\n",
      "Executing the constructor method...\n",
      "self = <__main__.MyFirstClass object at 0x00000172C840B990>\n",
      "Executing display() method...\n",
      "class variable class_var1 = 110 and 110...\n",
      "instance variable inst_var1 = 222...\n"
     ]
    }
   ],
   "source": [
    "class MyFirstClass:\n",
    "    \"\"\"This is a document string...\"\"\"\n",
    "    class_var1 = 100    # class or static variable\n",
    "    def __init__(self, data1):   # self is an object binding variable\n",
    "        print (\"Executing the constructor method...\")\n",
    "        print (f\"self = {self}\")\n",
    "        self.inst_var1 = data1   # instance variable\n",
    "    def display(self):\n",
    "        print (\"Executing display() method...\")\n",
    "        print (f\"class variable class_var1 = {MyFirstClass.class_var1} and {self.class_var1}...\")\n",
    "        print (f\"instance variable inst_var1 = {self.inst_var1}...\")\n",
    "    def update(self):\n",
    "        print (\"Updating class or static variable...\")\n",
    "        MyFirstClass.class_var1 += 10\n",
    "ob1 = MyFirstClass(111)\n",
    "ob1.display()\n",
    "print (ob1.__doc__)\n",
    "print (MyFirstClass.__doc__)\n",
    "ob1.update()\n",
    "ob2 = MyFirstClass(222)\n",
    "ob2.display()"
   ]
  },
  {
   "cell_type": "code",
   "execution_count": 12,
   "id": "6191e66d",
   "metadata": {},
   "outputs": [
    {
     "name": "stdout",
     "output_type": "stream",
     "text": [
      "Executing the constructor method...\n",
      "self = <__main__.MyFirstClass object at 0x00000172C837B990>\n",
      "Executing display() method...\n",
      "class variable class_var1 = 100...\n",
      "instance variable inst_var1 = 111...\n"
     ]
    }
   ],
   "source": [
    "class MyFirstClass:\n",
    "    class_var1 = 100    # class or static variable\n",
    "    def __init__(self, data1):   # self is an object binding variable\n",
    "        print (\"Executing the constructor method...\")\n",
    "        print (f\"self = {self}\")\n",
    "        self.inst_var1 = data1   # instance variable\n",
    "    def display(self):\n",
    "        print (\"Executing display() method...\")\n",
    "        print (f\"class variable class_var1 = {MyFirstClass.class_var1}...\")\n",
    "        print (f\"instance variable inst_var1 = {self.inst_var1}...\")\n",
    "    def __del__(self):\n",
    "        print (\"Destructor method is executing...\")\n",
    "ob1 = MyFirstClass(111)\n",
    "ob1.display()"
   ]
  },
  {
   "cell_type": "code",
   "execution_count": 13,
   "id": "1a87e52b",
   "metadata": {},
   "outputs": [
    {
     "name": "stdout",
     "output_type": "stream",
     "text": [
      "Destructor method is executing...\n"
     ]
    },
    {
     "ename": "NameError",
     "evalue": "name 'ob3' is not defined",
     "output_type": "error",
     "traceback": [
      "\u001b[1;31m---------------------------------------------------------------------------\u001b[0m",
      "\u001b[1;31mNameError\u001b[0m                                 Traceback (most recent call last)",
      "Cell \u001b[1;32mIn[13], line 3\u001b[0m\n\u001b[0;32m      1\u001b[0m \u001b[38;5;28;01mdel\u001b[39;00m ob1\n\u001b[0;32m      2\u001b[0m \u001b[38;5;28;01mdel\u001b[39;00m ob2\n\u001b[1;32m----> 3\u001b[0m \u001b[38;5;28;01mdel\u001b[39;00m ob3\n",
      "\u001b[1;31mNameError\u001b[0m: name 'ob3' is not defined"
     ]
    }
   ],
   "source": [
    "del ob1\n",
    "del ob2\n",
    "del ob3"
   ]
  },
  {
   "cell_type": "code",
   "execution_count": 14,
   "id": "46f53f7c",
   "metadata": {},
   "outputs": [
    {
     "name": "stdout",
     "output_type": "stream",
     "text": [
      "Number of objects defined is 4\n"
     ]
    }
   ],
   "source": [
    "# counting the number of objects defined under the class\n",
    "class MyClass:\n",
    "    count_object = 0\n",
    "    def __init__(self):\n",
    "        MyClass.count_object += 1\n",
    "        \n",
    "ob1 = MyClass()\n",
    "ob2 = MyClass()\n",
    "ob3 = MyClass()\n",
    "ob4 = MyClass()\n",
    "print (f\"Number of objects defined is {MyClass.count_object}\")"
   ]
  },
  {
   "cell_type": "code",
   "execution_count": 15,
   "id": "41adb09c",
   "metadata": {},
   "outputs": [
    {
     "name": "stdout",
     "output_type": "stream",
     "text": [
      "Executing instance method <__main__.MyClass object at 0x00000172CA1BA6D0>\n",
      "classVar = 222, instVar = 100\n"
     ]
    }
   ],
   "source": [
    "# there are three types of methods: instance, class, static\n",
    "class MyClass:\n",
    "    classVar = 111   # class or static variable\n",
    "    # defining instance method\n",
    "    def instMethod(self):  # self is object binding variable\n",
    "        print (\"Executing instance method\", self)\n",
    "        self.instVar = 100   # instance variable\n",
    "        MyClass.classVar = 222\n",
    "        print(f\"classVar = {MyClass.classVar}, instVar = {self.instVar}\")\n",
    "ob1 = MyClass()\n",
    "ob1.instMethod()\n",
    "# MyClass.instMethod()"
   ]
  },
  {
   "cell_type": "code",
   "execution_count": 16,
   "id": "3f98086f",
   "metadata": {},
   "outputs": [
    {
     "name": "stdout",
     "output_type": "stream",
     "text": [
      "Executing class method <class '__main__.MyClass'>\n",
      "classVar = 333 and 333\n",
      "Executing class method <class '__main__.MyClass'>\n",
      "classVar = 333 and 333\n"
     ]
    }
   ],
   "source": [
    "# there are three types of methods: instance, class, static\n",
    "class MyClass:\n",
    "    classVar = 111   # class or static variable\n",
    "    # defining class method\n",
    "    @classmethod    # annotation or decorator\n",
    "    def classMethod(cla):  # cla is class binding variable\n",
    "        print (\"Executing class method\", cla)\n",
    "        cla.classVar = 222   # accessing class variable\n",
    "        MyClass.classVar = 333\n",
    "        print(f\"classVar = {MyClass.classVar} and {cla.classVar}\")\n",
    "ob1 = MyClass()\n",
    "ob1.classMethod()\n",
    "MyClass.classMethod()"
   ]
  },
  {
   "cell_type": "code",
   "execution_count": 17,
   "id": "c049a573",
   "metadata": {},
   "outputs": [
    {
     "name": "stdout",
     "output_type": "stream",
     "text": [
      "Executing static method\n",
      "classVar = 333\n",
      "Executing static method\n",
      "classVar = 333\n"
     ]
    }
   ],
   "source": [
    "# there are three types of methods: instance, class, static\n",
    "class MyClass:\n",
    "    classVar = 111   # class or static variable\n",
    "    # defining static method\n",
    "    @staticmethod    # annotation or decorator\n",
    "    def staticMethod():\n",
    "        print (\"Executing static method\")\n",
    "        MyClass.classVar = 333   # accessing class variable\n",
    "        print(f\"classVar = {MyClass.classVar}\")\n",
    "ob1 = MyClass()\n",
    "ob1.staticMethod()\n",
    "MyClass.staticMethod()"
   ]
  },
  {
   "cell_type": "code",
   "execution_count": 18,
   "id": "3fe86239",
   "metadata": {},
   "outputs": [
    {
     "name": "stdout",
     "output_type": "stream",
     "text": [
      "False True True\n",
      "True True True\n",
      "100 111\n",
      "False True\n",
      "{'instVar1': 111}\n",
      "['__class__', '__delattr__', '__dict__', '__dir__', '__doc__', '__eq__', '__format__', '__ge__', '__getattribute__', '__getstate__', '__gt__', '__hash__', '__init__', '__init_subclass__', '__le__', '__lt__', '__module__', '__ne__', '__new__', '__reduce__', '__reduce_ex__', '__repr__', '__setattr__', '__sizeof__', '__str__', '__subclasshook__', '__weakref__', 'classVar1', 'function1', 'function2', 'instVar1']\n"
     ]
    }
   ],
   "source": [
    "# built-in Python methods\n",
    "class MyClass1:\n",
    "    def __init__(self):\n",
    "        print (\"Hello...\")\n",
    "class MyClass2:\n",
    "    classVar1 = 100\n",
    "    def __init__(self):\n",
    "        self.instVar1 = 111\n",
    "    def function1(self):\n",
    "        print(\"instVar =\", self.instVar1)\n",
    "class MyClass3(MyClass2):\n",
    "    \"\"\"This is a document string...\"\"\"\n",
    "    def function2(self):\n",
    "        print (\"function2() is executing...\")\n",
    "    def __str__(self):\n",
    "        return \"Object is getting printed...\"\n",
    "ob1 = MyClass3()\n",
    "print (isinstance(ob1, MyClass1), isinstance(ob1, MyClass2), isinstance(ob1, MyClass3))\n",
    "print (hasattr(ob1, 'classVar1'), hasattr(ob1, 'function1'), hasattr(ob1, 'function2'))\n",
    "print (getattr(ob1, 'classVar1'), ob1.instVar1)\n",
    "print (issubclass(MyClass1, MyClass2), issubclass(MyClass3, MyClass2))\n",
    "print (vars(ob1))   # returns a dictionary of attributes of the object\n",
    "print (dir(ob1))    # returns a list of all the attributes of the object"
   ]
  },
  {
   "cell_type": "code",
   "execution_count": 19,
   "id": "286f842f",
   "metadata": {},
   "outputs": [
    {
     "name": "stdout",
     "output_type": "stream",
     "text": [
      "This is a document string...\n",
      "__main__\n",
      "{'instVar1': 111}\n"
     ]
    }
   ],
   "source": [
    "# built in Python attributes\n",
    "print (ob1.__doc__)\n",
    "print (ob1.__module__)\n",
    "print (ob1.__dict__)"
   ]
  },
  {
   "cell_type": "code",
   "execution_count": 20,
   "id": "aa024f77",
   "metadata": {},
   "outputs": [
    {
     "name": "stdout",
     "output_type": "stream",
     "text": [
      "Object is getting printed...\n",
      "Object is getting printed...\n"
     ]
    }
   ],
   "source": [
    "print (ob1)\n",
    "print (ob1.__str__())"
   ]
  },
  {
   "cell_type": "code",
   "execution_count": 21,
   "id": "cfc58658",
   "metadata": {},
   "outputs": [
    {
     "name": "stdout",
     "output_type": "stream",
     "text": [
      "111\n",
      "222\n",
      "333\n",
      "Public method is executing...\n",
      "Protected method is executing...\n",
      "Private method is executing...\n"
     ]
    }
   ],
   "source": [
    "# dealing with private, potected and public members\n",
    "class MyClass:\n",
    "    def __init__(self):\n",
    "        self.publicVar = 111\n",
    "        self._protectedVar = 222\n",
    "        self.__privateVar = 333\n",
    "    def publicMethod(self):\n",
    "        return \"Public method is executing...\"\n",
    "    def _protectedMethod(self):\n",
    "        return \"Protected method is executing...\"\n",
    "    def __privateMethod(self):\n",
    "        return \"Private method is executing...\"\n",
    "ob1 = MyClass()\n",
    "print (ob1.publicVar)\n",
    "print (ob1._protectedVar)\n",
    "print (ob1._MyClass__privateVar)\n",
    "print (ob1.publicMethod())\n",
    "print (ob1._protectedMethod())\n",
    "print (ob1._MyClass__privateMethod())"
   ]
  },
  {
   "cell_type": "markdown",
   "id": "b03e9632",
   "metadata": {},
   "source": [
    "## **Inheritance with Python OOP**"
   ]
  },
  {
   "attachments": {
    "Inheritance.png": {
     "image/png": "[encoded data removed]"
    }
   },
   "cell_type": "markdown",
   "id": "ab99bf57",
   "metadata": {},
   "source": [
    "![Inheritance.png](attachment:Inheritance.png)"
   ]
  },
  {
   "cell_type": "code",
   "execution_count": 76,
   "id": "851fbb84",
   "metadata": {},
   "outputs": [
    {
     "name": "stdout",
     "output_type": "stream",
     "text": [
      "Derived: Constructor method is executing...\n",
      "Base: Constructor method is executing...\n",
      "Base: Constructor method is executing...\n",
      "Base: Constructor method is executing...\n",
      "Base: Constructor method is executing...\n",
      "Base: Constructor method is executing...\n",
      "Derived: Display method is executing...\n",
      "Base: Display method is executing...\n"
     ]
    }
   ],
   "source": [
    "# single inheritance\n",
    "class Base:\n",
    "    def __init__(self):\n",
    "        print (\"Base: Constructor method is executing...\")\n",
    "    def displayB(self):\n",
    "        print (\"Base: Display method is executing...\")\n",
    "class Derived(Base):\n",
    "    def __init__(self):\n",
    "        print (\"Derived: Constructor method is executing...\")\n",
    "        super(Derived, self).__init__()\n",
    "        Base.__init__(self)\n",
    "        super().__init__()\n",
    "    def displayD(self):\n",
    "        print (\"Derived: Display method is executing...\")\n",
    "ob1 = Derived()\n",
    "super(Derived, ob1).__init__()\n",
    "Base.__init__(ob1)\n",
    "ob1.displayD()\n",
    "ob1.displayB()"
   ]
  },
  {
   "cell_type": "code",
   "execution_count": 86,
   "id": "ef3fcebd",
   "metadata": {},
   "outputs": [
    {
     "name": "stdout",
     "output_type": "stream",
     "text": [
      "Base: Constructor method is executing...\n",
      "Derived2: Function method is executing...\n",
      "Derived1: Function method is executing...\n",
      "Derived1: Function method is executing...\n",
      "Base: Function method is executing...\n",
      "Base: Function method is executing...\n",
      "\n",
      "Base: Display method is executing...\n",
      "Derived1: Display method is executing...\n",
      "Derived2: Display method is executing...\n"
     ]
    }
   ],
   "source": [
    "# multilevel inheritance\n",
    "class Base:\n",
    "    def __init__(self):\n",
    "        print (\"Base: Constructor method is executing...\")\n",
    "    def displayB(self):\n",
    "        print (\"Base: Display method is executing...\")\n",
    "    def function(self):\n",
    "        print (\"Base: Function method is executing...\")\n",
    "class Derived1(Base):\n",
    "    def displayD1(self):\n",
    "        print (\"Derived1: Display method is executing...\")\n",
    "    def function(self):\n",
    "        print (\"Derived1: Function method is executing...\")\n",
    "class Derived2(Derived1):\n",
    "    def displayD2(self):\n",
    "        print (\"Derived2: Display method is executing...\")\n",
    "    def function(self):\n",
    "        print (\"Derived2: Function method is executing...\")\n",
    "ob1 = Derived2()\n",
    "ob1.function()\n",
    "super(Derived2, ob1).function()\n",
    "Derived1.function(ob1)\n",
    "super(Derived1, ob1).function()\n",
    "Base.function(ob1)\n",
    "print ()\n",
    "ob1.displayB()\n",
    "ob1.displayD1()\n",
    "ob1.displayD2()"
   ]
  },
  {
   "cell_type": "code",
   "execution_count": 87,
   "id": "7b69a321",
   "metadata": {},
   "outputs": [
    {
     "name": "stdout",
     "output_type": "stream",
     "text": [
      "Base: Constructor method is executing...\n",
      "Base: Display method is executing...\n",
      "Derived1: Display method is executing...\n",
      "Derived1: Function method is executing...\n",
      "Base: Function method is executing...\n"
     ]
    }
   ],
   "source": [
    "# hierarchical inheritance\n",
    "class Base:\n",
    "    def __init__(self):\n",
    "        print (\"Base: Constructor method is executing...\")\n",
    "    def displayB(self):\n",
    "        print (\"Base: Display method is executing...\")\n",
    "    def function(self):\n",
    "        print (\"Base: Function method is executing...\")\n",
    "class Derived1(Base):\n",
    "    def displayD1(self):\n",
    "        print (\"Derived1: Display method is executing...\")\n",
    "    def function(self):\n",
    "        print (\"Derived1: Function method is executing...\")\n",
    "class Derived2(Base):\n",
    "    def displayD2(self):\n",
    "        print (\"Derived2: Display method is executing...\")\n",
    "    def function(self):\n",
    "        print (\"Derived2: Function method is executing...\")\n",
    "ob1 = Derived1()\n",
    "ob1.displayB()\n",
    "ob1.displayD1()\n",
    "ob1.function()\n",
    "Base.function(ob1)"
   ]
  },
  {
   "cell_type": "code",
   "execution_count": 88,
   "id": "ea7b0e56",
   "metadata": {},
   "outputs": [
    {
     "name": "stdout",
     "output_type": "stream",
     "text": [
      "Base: Constructor method is executing...\n",
      "Base: Display method is executing...\n",
      "Derived2: Display method is executing...\n",
      "Derived2: Function method is executing...\n",
      "Base: Function method is executing...\n"
     ]
    }
   ],
   "source": [
    "ob2 = Derived2()\n",
    "ob2.displayB()\n",
    "ob2.displayD2()\n",
    "ob2.function()\n",
    "Base.function(ob2)"
   ]
  },
  {
   "cell_type": "code",
   "execution_count": 8,
   "id": "ca0edd61",
   "metadata": {},
   "outputs": [
    {
     "name": "stdout",
     "output_type": "stream",
     "text": [
      "Base1: Constructor method is executing...\n",
      "Base1: Function method is executing...\n",
      "Base1: Display method is executing...\n",
      "Base2: Display method is executing...\n",
      "Derived: Display method is executing...\n"
     ]
    }
   ],
   "source": [
    "class Base1:\n",
    "    def __init__(self):\n",
    "        print (\"Base1: Constructor method is executing...\")\n",
    "    def displayB1(self):\n",
    "        print (\"Base1: Display method is executing...\")\n",
    "    def function(self):\n",
    "        print (\"Base1: Function method is executing...\")\n",
    "class Base2:\n",
    "    def __init__(self):\n",
    "        print (\"Base2: Constructor method is executing...\")\n",
    "    def displayB2(self):\n",
    "        print (\"Base2: Display method is executing...\")\n",
    "    def function(self):\n",
    "        print (\"Base2: Function method is executing...\")\n",
    "class Derived(Base1, Base2):   # MRO = Method Resolution Order\n",
    "    def displayD(self):\n",
    "        print (\"Derived: Display method is executing...\")\n",
    "ob1 = Derived()\n",
    "ob1.function()\n",
    "ob1.displayB1()\n",
    "ob1.displayB2()\n",
    "ob1.displayD()"
   ]
  },
  {
   "cell_type": "markdown",
   "id": "eb31b81f",
   "metadata": {},
   "source": [
    "## **Operator Overloading**"
   ]
  },
  {
   "cell_type": "code",
   "execution_count": 14,
   "id": "5f103ea3",
   "metadata": {},
   "outputs": [
    {
     "name": "stdout",
     "output_type": "stream",
     "text": [
      "So 500 + 200 = 700\n",
      "So 500 + 200 = 700\n",
      "So 500 - 200 = 300\n",
      "So 500 - 200 = 300\n",
      "So 500 / 200 = 2.5\n",
      "So 500 / 200 = 2.5\n",
      "So 500 // 200 = 2\n",
      "So 500 // 200 = 2\n"
     ]
    }
   ],
   "source": [
    "num1 = 500\n",
    "num2 = 200\n",
    "result = num1 + num2\n",
    "print (f\"So {num1} + {num2} = {result}\")\n",
    "result = num1.__add__(num2)\n",
    "print (f\"So {num1} + {num2} = {result}\")\n",
    "result = num1 - num2\n",
    "print (f\"So {num1} - {num2} = {result}\")\n",
    "result = num1.__sub__(num2)\n",
    "print (f\"So {num1} - {num2} = {result}\")\n",
    "result = num1 / num2   # float division\n",
    "print (f\"So {num1} / {num2} = {result}\")\n",
    "result = num1.__truediv__(num2)\n",
    "print (f\"So {num1} / {num2} = {result}\")\n",
    "result = num1 // num2   # int division\n",
    "print (f\"So {num1} // {num2} = {result}\")\n",
    "result = num1.__floordiv__(num2)\n",
    "print (f\"So {num1} // {num2} = {result}\")"
   ]
  },
  {
   "cell_type": "code",
   "execution_count": 17,
   "id": "8476ce32",
   "metadata": {},
   "outputs": [
    {
     "name": "stdout",
     "output_type": "stream",
     "text": [
      "500 <class 'int'> 200 <class 'int'>\n",
      "So 500 > 200 = True\n",
      "So 500 > 200 = True\n",
      "So 500 <= 200 = False\n",
      "So 500 <= 200 = False\n"
     ]
    }
   ],
   "source": [
    "num1 = 500\n",
    "num2 = 200\n",
    "print (num1, type(num1), num2, type(num2))\n",
    "result = num1 > num2\n",
    "print (f\"So {num1} > {num2} = {result}\")\n",
    "result = num1.__gt__(num2)\n",
    "print (f\"So {num1} > {num2} = {result}\")\n",
    "result = num1 <= num2\n",
    "print (f\"So {num1} <= {num2} = {result}\")\n",
    "result = num1.__le__(num2)\n",
    "print (f\"So {num1} <= {num2} = {result}\")"
   ]
  },
  {
   "cell_type": "code",
   "execution_count": 20,
   "id": "2cf254a6",
   "metadata": {},
   "outputs": [
    {
     "name": "stdout",
     "output_type": "stream",
     "text": [
      "12 4\n",
      "16 7\n",
      "After performing the addition operation...\n",
      "28 11\n",
      "28 11\n"
     ]
    }
   ],
   "source": [
    "class MyClass:\n",
    "    def __init__(self, xx, yy):\n",
    "        self.x = xx\n",
    "        self.y = yy\n",
    "    def __add__(self, ob):\n",
    "        temp = MyClass(0, 0)\n",
    "        temp.x = self.x + ob.x\n",
    "        temp.y = self.y + ob.y\n",
    "        return temp\n",
    "    \n",
    "ob1 = MyClass(12, 4)\n",
    "ob2 = MyClass(16, 7)\n",
    "print (ob1.x, ob1.y)\n",
    "print (ob2.x, ob2.y)\n",
    "print (\"After performing the addition operation...\")\n",
    "result1 = ob1 + ob2\n",
    "print (result1.x, result1.y)\n",
    "result2 = ob1.__add__(ob2)\n",
    "print (result2.x, result2.y)"
   ]
  },
  {
   "cell_type": "code",
   "execution_count": 21,
   "id": "e57314dd",
   "metadata": {},
   "outputs": [
    {
     "name": "stdout",
     "output_type": "stream",
     "text": [
      "12 4\n",
      "16 7\n",
      "After performing the addition operation...\n",
      "-4 -3\n",
      "-4 -3\n"
     ]
    }
   ],
   "source": [
    "class MyClass:\n",
    "    def __init__(self, xx, yy):\n",
    "        self.x = xx\n",
    "        self.y = yy\n",
    "    def __sub__(self, ob):\n",
    "        temp = MyClass(0, 0)\n",
    "        temp.x = self.x - ob.x\n",
    "        temp.y = self.y - ob.y\n",
    "        return temp\n",
    "    \n",
    "ob1 = MyClass(12, 4)\n",
    "ob2 = MyClass(16, 7)\n",
    "print (ob1.x, ob1.y)\n",
    "print (ob2.x, ob2.y)\n",
    "print (\"After performing the addition operation...\")\n",
    "result1 = ob1 - ob2\n",
    "print (result1.x, result1.y)\n",
    "result2 = ob1.__sub__(ob2)\n",
    "print (result2.x, result2.y)"
   ]
  },
  {
   "cell_type": "code",
   "execution_count": 22,
   "id": "713ba614",
   "metadata": {},
   "outputs": [
    {
     "name": "stdout",
     "output_type": "stream",
     "text": [
      "12 4\n",
      "16 7\n",
      "After performing the addition operation...\n",
      "True\n",
      "True\n"
     ]
    }
   ],
   "source": [
    "class MyClass:\n",
    "    def __init__(self, xx, yy):\n",
    "        self.x = xx\n",
    "        self.y = yy\n",
    "    def __gt__(self, ob):\n",
    "        temp = MyClass(0, 0)\n",
    "        temp.x = self.x + ob.x\n",
    "        temp.y = self.y + ob.y\n",
    "        return temp.x > temp.y\n",
    "    \n",
    "ob1 = MyClass(12, 4)\n",
    "ob2 = MyClass(16, 7)\n",
    "print (ob1.x, ob1.y)\n",
    "print (ob2.x, ob2.y)\n",
    "print (\"After performing the addition operation...\")\n",
    "result1 = ob1 > ob2\n",
    "print (result1)\n",
    "result2 = ob1.__gt__(ob2)\n",
    "print (result2)"
   ]
  },
  {
   "cell_type": "code",
   "execution_count": 24,
   "id": "62da8b72",
   "metadata": {},
   "outputs": [
    {
     "name": "stdout",
     "output_type": "stream",
     "text": [
      "6.0\n",
      "6.0\n"
     ]
    }
   ],
   "source": [
    "num1 = 100\n",
    "num2 = 50\n",
    "num3 = 10\n",
    "result = (num1 + (num2 * num3)) / num1\n",
    "print (result)\n",
    "result = (num1.__add__(num2.__mul__(num3)).__truediv__(num1))\n",
    "print (result)"
   ]
  },
  {
   "cell_type": "markdown",
   "id": "a27fdce3",
   "metadata": {},
   "source": [
    "## **Abstract Class and Interface**"
   ]
  },
  {
   "cell_type": "code",
   "execution_count": 25,
   "id": "49ab62b9",
   "metadata": {},
   "outputs": [
    {
     "name": "stdout",
     "output_type": "stream",
     "text": [
      "Abstract class constructor...\n",
      "abstractMethod1() body is redefined...\n",
      "abstractMethod2() body is redefined...\n",
      "concreteMethod() is executing...\n"
     ]
    }
   ],
   "source": [
    "# abstract class\n",
    "from abc import ABC,abstractmethod   # here ABC means Abstract Base Class\n",
    "class AbsBaseClass(ABC):\n",
    "    def __init__(self):\n",
    "        print (\"Abstract class constructor...\")\n",
    "    @abstractmethod    # annotation or decorator\n",
    "    def abstractMethod1(self):\n",
    "        pass\n",
    "    @abstractmethod\n",
    "    def abstractMethod2(self):\n",
    "        pass\n",
    "    def concreteMethod(self):\n",
    "        print (\"concreteMethod() is executing...\")\n",
    "class Derived(AbsBaseClass):\n",
    "    def abstractMethod1(self):\n",
    "        print (\"abstractMethod1() body is redefined...\")\n",
    "    def abstractMethod2(self):\n",
    "        print (\"abstractMethod2() body is redefined...\")\n",
    "ob1 = Derived()\n",
    "ob1.abstractMethod1()\n",
    "ob1.abstractMethod2()\n",
    "ob1.concreteMethod()"
   ]
  },
  {
   "cell_type": "code",
   "execution_count": 27,
   "id": "565504a9",
   "metadata": {},
   "outputs": [
    {
     "name": "stdout",
     "output_type": "stream",
     "text": [
      "Abstract class constructor...\n",
      "my_abstract_method() body is overwritten...\n",
      "Initial content of the my_abstract_method() method...\n",
      "my_concrete_method() is executing...\n"
     ]
    }
   ],
   "source": [
    "from abc import ABC, abstractmethod\n",
    "class AbsBaseClass(ABC):\n",
    "    def __init__(self):\n",
    "        print (\"Abstract class constructor...\")\n",
    "    @abstractmethod\n",
    "    def my_abstract_method(self):\n",
    "        print (\"Initial content of the my_abstract_method() method...\")\n",
    "    def my_concrete_method(self):\n",
    "        print (\"my_concrete_method() is executing...\")\n",
    "class Derived(AbsBaseClass):\n",
    "    def my_abstract_method(self):\n",
    "        print (\"my_abstract_method() body is overwritten...\")\n",
    "        super().my_abstract_method()\n",
    "ob1 = Derived()\n",
    "ob1.my_abstract_method()\n",
    "ob1.my_concrete_method()"
   ]
  },
  {
   "cell_type": "code",
   "execution_count": 28,
   "id": "5a347d92",
   "metadata": {},
   "outputs": [
    {
     "name": "stdout",
     "output_type": "stream",
     "text": [
      "my_abstract_method1() is redefined...\n",
      "my_abstract_method2() is redefined...\n",
      "my_abstract_method3() is redefined...\n"
     ]
    }
   ],
   "source": [
    "# dealing with interface\n",
    "from abc import ABC, abstractmethod   # abc => Abstract Base Class\n",
    "class my_interface(ABC):\n",
    "    @abstractmethod\n",
    "    def my_abstract_method1(self):\n",
    "        pass\n",
    "    @abstractmethod\n",
    "    def my_abstract_method2(self):\n",
    "        pass\n",
    "    @abstractmethod\n",
    "    def my_abstract_method3(self):\n",
    "        pass\n",
    "class Derived(my_interface):\n",
    "    def my_abstract_method1(self):\n",
    "        print (\"my_abstract_method1() is redefined...\")\n",
    "    def my_abstract_method2(self):\n",
    "        print (\"my_abstract_method2() is redefined...\")\n",
    "    def my_abstract_method3(self):\n",
    "        print (\"my_abstract_method3() is redefined...\")\n",
    "ob1 = Derived()\n",
    "ob1.my_abstract_method1()\n",
    "ob1.my_abstract_method2()\n",
    "ob1.my_abstract_method3()"
   ]
  },
  {
   "cell_type": "code",
   "execution_count": null,
   "id": "45016ead",
   "metadata": {},
   "outputs": [],
   "source": []
  }
 ],
 "metadata": {
  "kernelspec": {
   "display_name": "Python 3 (ipykernel)",
   "language": "python",
   "name": "python3"
  },
  "language_info": {
   "codemirror_mode": {
    "name": "ipython",
    "version": 3
   },
   "file_extension": ".py",
   "mimetype": "text/x-python",
   "name": "python",
   "nbconvert_exporter": "python",
   "pygments_lexer": "ipython3",
   "version": "3.11.7"
  }
 },
 "nbformat": 4,
 "nbformat_minor": 5
}

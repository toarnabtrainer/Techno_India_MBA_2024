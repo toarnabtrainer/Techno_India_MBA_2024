{
 "cells": [
  {
   "cell_type": "markdown",
   "id": "e8decc2a-0d13-454e-a260-784bc43f15ab",
   "metadata": {},
   "source": [
    "# **Python Scripting**"
   ]
  },
  {
   "cell_type": "markdown",
   "id": "23332b4e-922d-4e73-87c9-501e2cd86c77",
   "metadata": {},
   "source": [
    "## **Section-1**"
   ]
  },
  {
   "cell_type": "markdown",
   "id": "bc148703-c2d4-47c6-9d85-6069749a170f",
   "metadata": {},
   "source": [
    "## **Python Inputs and Outputs**"
   ]
  },
  {
   "cell_type": "code",
   "execution_count": 10,
   "id": "45612f17-ede1-4a4c-b6eb-0d8a24944423",
   "metadata": {},
   "outputs": [
    {
     "name": "stdout",
     "output_type": "stream",
     "text": [
      "Performing addition of two user given integers...\n"
     ]
    },
    {
     "name": "stdin",
     "output_type": "stream",
     "text": [
      "Please enter the first integer:  100\n",
      "Please enter the second integer:  200\n"
     ]
    },
    {
     "name": "stdout",
     "output_type": "stream",
     "text": [
      "100 <class 'str'>\n",
      "200 <class 'str'>\n",
      "100200\n",
      "300\n",
      "End of the program...\n"
     ]
    }
   ],
   "source": [
    "print ('Performing addition of two user given integers...')\n",
    "num1 = input(\"Please enter the first integer: \")\n",
    "num2 = input(\"Please enter the second integer: \")\n",
    "print (num1, type(num1))\n",
    "print (num2, type(num2))\n",
    "total = num1 + num2   # string concatenation operation\n",
    "print (total)\n",
    "total = int(num1) + int(num2)   # algebraic addition operation\n",
    "print (total)\n",
    "print (\"End of the program...\")"
   ]
  },
  {
   "cell_type": "code",
   "execution_count": 13,
   "id": "0d7fe277-2376-4c63-9d3d-cbdcf4ace12a",
   "metadata": {},
   "outputs": [
    {
     "name": "stdout",
     "output_type": "stream",
     "text": [
      "Performing addition of two user given integers...\n"
     ]
    },
    {
     "name": "stdin",
     "output_type": "stream",
     "text": [
      "Please enter the first integer:  100\n",
      "Please enter the second integer:  400\n"
     ]
    },
    {
     "name": "stdout",
     "output_type": "stream",
     "text": [
      "100 <class 'int'>\n",
      "400 <class 'int'>\n",
      "500\n",
      "End of the program...\n"
     ]
    }
   ],
   "source": [
    "print ('Performing addition of two user given integers...')\n",
    "num1 = int(input(\"Please enter the first integer: \"))\n",
    "num2 = int(input(\"Please enter the second integer: \"))\n",
    "print (num1, type(num1))\n",
    "print (num2, type(num2))\n",
    "total = num1 + num2   # algebraic addition operation\n",
    "print (total)\n",
    "print (\"End of the program...\")"
   ]
  },
  {
   "cell_type": "code",
   "execution_count": 32,
   "id": "6e265806-c543-490a-95e7-2825531c8533",
   "metadata": {},
   "outputs": [
    {
     "name": "stdout",
     "output_type": "stream",
     "text": [
      "So 100 + 400 = 500\n",
      "So 100 + 400 = 500\n",
      "So 100 + 400 = 500\n",
      "So 100 + 400 + 500\n",
      "So 100 + 400 + 500\n",
      "So 100 + 400 + 500\n",
      "So 100 + 400 + 500\n",
      "So 100 + 400 + 500\n",
      "So 100.000000 +   400.00 +  500.000\n",
      "So 100 + 400 = 500\n"
     ]
    }
   ],
   "source": [
    "# displaying the results\n",
    "print (\"So\", num1, \"+\", num2, \"=\", total)\n",
    "print (\"So \" + str(num1) + \" + \" + str(num2) + \" = \" + str(total))\n",
    "print (\"So {} + {} = {}\".format(num1, num2, total))  # {} is called variable place holder\n",
    "print (\"So {0} + {1} + {2}\".format(num1, num2, total))   # numbered variable place holder\n",
    "print (\"So {2} + {1} + {0}\".format(total, num2, num1))   # numbered variable place holder\n",
    "print (\"So {val1} + {val2} + {result}\".format(val1 = num1, val2 = num2, result = total))   # labeled variable place holder\n",
    "print (\"So {val1} + {val2} + {result}\".format(val2 = num2, result = total, val1 = num1))   # labeled variable place holder\n",
    "print (\"So %d + %d + %d\"%(num1, num2, total))   # format notation\n",
    "print (\"So %f + %8.2f + %8.3f\"%(num1, num2, total))   # format notation\n",
    "print (f\"So {num1} + {num2} = {total}\")   # smart formatting"
   ]
  },
  {
   "cell_type": "markdown",
   "id": "12655993-2902-4690-bd9e-2fa14237f49d",
   "metadata": {},
   "source": [
    "## **Dynamic Variable Types**"
   ]
  },
  {
   "cell_type": "code",
   "execution_count": 35,
   "id": "1aa62702-16d3-4eb2-9575-2d18f4b6ef5a",
   "metadata": {},
   "outputs": [
    {
     "name": "stdout",
     "output_type": "stream",
     "text": [
      "100 <class 'int'>\n",
      "100.4 <class 'float'>\n",
      "100 <class 'str'>\n",
      "A <class 'str'>\n",
      "A <class 'str'>\n",
      "True <class 'bool'>\n"
     ]
    }
   ],
   "source": [
    "var = 100\n",
    "print (var, type(var))\n",
    "var = 100.40\n",
    "print (var, type(var))\n",
    "var = \"100\"\n",
    "print (var, type(var))\n",
    "var = 'A'\n",
    "print (var, type(var))\n",
    "var = \"A\"\n",
    "print (var, type(var))\n",
    "var = True\n",
    "print (var, type(var))"
   ]
  },
  {
   "cell_type": "markdown",
   "id": "1135c436-bd16-4ed6-aa6b-1422e236533a",
   "metadata": {},
   "source": [
    "### Assignment A-01: Features of Python and its Applications\n",
    "#### Submission Date: 1st February, 2024"
   ]
  },
  {
   "cell_type": "markdown",
   "id": "68435777-250f-49ec-89da-a6513ce4aa67",
   "metadata": {},
   "source": [
    "## **Dynamic variable datatypes**"
   ]
  },
  {
   "cell_type": "code",
   "execution_count": 1,
   "id": "075e398a-bdb6-4161-a2b6-3300ef155527",
   "metadata": {},
   "outputs": [
    {
     "name": "stdout",
     "output_type": "stream",
     "text": [
      "100 <class 'int'> 1810722196816\n",
      "100.5 <class 'float'> 1810804390448\n",
      "Punch <class 'str'> 1810808916016\n",
      "P <class 'str'> 1810730259376\n",
      "Punch <class 'str'> 1810808916016\n",
      "P <class 'str'> 1810730259376\n",
      "True <class 'bool'> 140729988106448\n",
      "False <class 'bool'> 140729988106480\n"
     ]
    }
   ],
   "source": [
    "var1 = 100; print (var1, type(var1), id(var1))\n",
    "var1 = 100.5; print (var1, type(var1), id(var1))\n",
    "var1 = \"Punch\"; print (var1, type(var1), id(var1))\n",
    "var1 = \"P\"; print (var1, type(var1), id(var1))\n",
    "var1 = 'Punch'; print (var1, type(var1), id(var1))\n",
    "var1 = 'P'; print (var1, type(var1), id(var1))\n",
    "var1 = True; print (var1, type(var1), id(var1))\n",
    "var1 = False; print (var1, type(var1), id(var1))"
   ]
  },
  {
   "cell_type": "markdown",
   "id": "d629009f-44ec-4c90-bb32-cc4d6ba3e2c5",
   "metadata": {},
   "source": [
    "## **Python Operators**"
   ]
  },
  {
   "cell_type": "code",
   "execution_count": 2,
   "id": "041e2176-5710-404f-a4ed-492362fa8b2d",
   "metadata": {},
   "outputs": [
    {
     "name": "stdout",
     "output_type": "stream",
     "text": [
      "130\n",
      "70\n",
      "3000\n",
      "3.3333333333333335\n",
      "3\n",
      "1000000\n",
      "10\n"
     ]
    }
   ],
   "source": [
    "# Arithmetic Operators: + - * / // ** %\n",
    "# Conditional Operators: > >= < <= != ==\n",
    "# Logical Operators: and or not\n",
    "# Assignment Operator: = \n",
    "# Special Assignment Operators: += -= *= /= //= **= %=\n",
    "print (100 + 30)\n",
    "print (100 - 30)\n",
    "print (100 * 30)\n",
    "print (100 / 30)\n",
    "print (100 // 30)\n",
    "print (100 ** 3)\n",
    "print (100 % 30)"
   ]
  },
  {
   "cell_type": "code",
   "execution_count": 5,
   "id": "0a0ef039-0a69-45d6-bdaf-dcca123fb7ea",
   "metadata": {},
   "outputs": [
    {
     "name": "stdout",
     "output_type": "stream",
     "text": [
      "True True True True True False\n",
      "False True True True\n",
      "False False False True\n",
      "True False\n"
     ]
    }
   ],
   "source": [
    "print (100 > 20, 100 >= 20, 20 < 100, 20 <= 100, 20 != 100, 20 == 100)\n",
    "print (False or False, False or True, True or False, True or True)\n",
    "print (False and False, False and True, True and False, True and True)\n",
    "print (not False, not True)"
   ]
  },
  {
   "cell_type": "code",
   "execution_count": 7,
   "id": "5cbcc837-d2f8-4941-8c69-30f5eb1b6395",
   "metadata": {},
   "outputs": [
    {
     "name": "stdout",
     "output_type": "stream",
     "text": [
      "100 Even\n",
      "101 Odd\n"
     ]
    }
   ],
   "source": [
    "# Operators: Unary, Binary, Ternary\n",
    "# Unary Operators (Require only one operand): +100 -300\n",
    "# Binary Operators (Require only two operands): 700 + 100    900 - 300\n",
    "# Ternary Operator (Requires only three operands)\n",
    "num1 = 100;\n",
    "result = \"Even\" if (num1 % 2 == 0) else \"Odd\"\n",
    "print (num1, result)\n",
    "num1 = 101;\n",
    "result = \"Even\" if (num1 % 2 == 0) else \"Odd\"\n",
    "print (num1, result)"
   ]
  },
  {
   "cell_type": "code",
   "execution_count": 10,
   "id": "76dbf82d-b77b-450e-a3fd-27ddc8c8c03b",
   "metadata": {},
   "outputs": [
    {
     "name": "stdout",
     "output_type": "stream",
     "text": [
      "HelloHelloHello\n",
      "Hello Hello Hello \n",
      "Banana\n"
     ]
    }
   ],
   "source": [
    "print (\"Hello\" * 3)\n",
    "print (\"Hello \" * 3)\n",
    "print (\"Ba\" + \"na\" * 2)"
   ]
  },
  {
   "cell_type": "code",
   "execution_count": 11,
   "id": "65ad0a69-8baa-4f0d-b701-77c78a2e8106",
   "metadata": {},
   "outputs": [
    {
     "name": "stdout",
     "output_type": "stream",
     "text": [
      "A a\n"
     ]
    }
   ],
   "source": [
    "# Bitwise Operators: & | ~ ^\n",
    "# A => 65 => 64 + 1      => 0100 0001\n",
    "#                        or 0010 0000 (32)\n",
    "#                           ---------\n",
    "# a => 97 => 64 + 32 + 1 => 0110 0001\n",
    "char1 = 'A'\n",
    "result = chr(ord(char1) | 32)\n",
    "print (char1, result)"
   ]
  },
  {
   "cell_type": "markdown",
   "id": "86f99a9f-94fa-437e-99ca-82341a5dfbac",
   "metadata": {},
   "source": [
    "## **ASCII Codes and Characters**"
   ]
  },
  {
   "cell_type": "code",
   "execution_count": 12,
   "id": "51844390-f593-466a-a7ff-a7de9f2bd740",
   "metadata": {},
   "outputs": [
    {
     "name": "stdout",
     "output_type": "stream",
     "text": [
      "65 97 90 122\n",
      "A a Z z\n"
     ]
    }
   ],
   "source": [
    "# ASCII (American Standard Code for Information Interchange) Codes\n",
    "# A => 65, B => 66, Z => 90\n",
    "# a => 97, b => 98, z => 122\n",
    "# 0 => 48, 1 => 49, 9 => 57\n",
    "# Space Bar/Blank => 32, Enter => 13, Esc => 27, Back Space => 9, Tab => 8\n",
    "# ASCII Code is 8 bits code ranging from 0 to 255\n",
    "# It can be divided into two categories:\n",
    "# 1. Normal ASCII Codes (0 to 127) - Printable\n",
    "# 2. Extended ASCII Codes (128 to 255) - Non-Printable\n",
    "print (ord('A'), ord('a'), ord('Z'), ord('z'))  # returns characters to ASCII Codes\n",
    "print (chr(65), chr(97), chr(90), chr(122))     # returns ASCII Codes to characters"
   ]
  },
  {
   "cell_type": "markdown",
   "id": "3422a6e5-96a9-4e09-b957-030aed4a99ea",
   "metadata": {},
   "source": [
    "## **Conditional Statements**"
   ]
  },
  {
   "cell_type": "code",
   "execution_count": 21,
   "id": "bb5f3328-1ffe-43e0-93db-8f8cc9aed2d5",
   "metadata": {},
   "outputs": [
    {
     "name": "stdin",
     "output_type": "stream",
     "text": [
      "Please enter the first number:  300\n",
      "Please enter the second number:  100\n",
      "Please enter the third number:  200\n"
     ]
    },
    {
     "name": "stdout",
     "output_type": "stream",
     "text": [
      "First Number...\n",
      "So the first number 300 is the MAXIMUM Number...\n",
      "End of the program...\n"
     ]
    }
   ],
   "source": [
    "num1 = int(input(\"Please enter the first number: \"))\n",
    "num2 = int(input(\"Please enter the second number: \"))\n",
    "num3 = int(input(\"Please enter the third number: \"))\n",
    "if (num1 > num2):\n",
    "    if (num1 > num3):\n",
    "        print (\"First Number...\")\n",
    "        print (f\"So the first number {num1} is the MAXIMUM Number...\")\n",
    "    else:\n",
    "        print (\"Third Number...\")\n",
    "        print (f\"So the third number {num3} is the MAXIMUM Number...\")\n",
    "elif (num2 > num3):\n",
    "    print (\"Second Number...\")\n",
    "    print (f\"So the second number {num2} is the MAXIMUM Number...\")\n",
    "else:\n",
    "    print (\"Third Number...\")\n",
    "    print (f\"So the third number {num3} is the MAXIMUM Number...\")\n",
    "print (\"End of the program...\")"
   ]
  },
  {
   "cell_type": "code",
   "execution_count": 26,
   "id": "bd6eefff-e3db-417f-b37a-0ae0f472653d",
   "metadata": {},
   "outputs": [
    {
     "name": "stdin",
     "output_type": "stream",
     "text": [
      "Please enter the first number:  200\n",
      "Please enter the second number:  300\n",
      "Please enter the third number:  100\n"
     ]
    },
    {
     "name": "stdout",
     "output_type": "stream",
     "text": [
      "Second Number...\n",
      "So the second number 300 is the MAXIMUM Number...\n",
      "End of the program...\n"
     ]
    }
   ],
   "source": [
    "num1 = int(input(\"Please enter the first number: \"))\n",
    "num2 = int(input(\"Please enter the second number: \"))\n",
    "num3 = int(input(\"Please enter the third number: \"))\n",
    "if (num1 > num2 and num1 > num3):\n",
    "    print (\"First Number...\")\n",
    "    print (f\"So the first number {num1} is the MAXIMUM Number...\")\n",
    "elif (num2 > num3):\n",
    "    print (\"Second Number...\")\n",
    "    print (f\"So the second number {num2} is the MAXIMUM Number...\")\n",
    "else:\n",
    "    print (\"Third Number...\")\n",
    "    print (f\"So the third number {num3} is the MAXIMUM Number...\")\n",
    "print (\"End of the program...\")"
   ]
  },
  {
   "cell_type": "code",
   "execution_count": 34,
   "id": "b0eb5f44-2f9e-4702-8932-7dda62e2a445",
   "metadata": {},
   "outputs": [
    {
     "name": "stdin",
     "output_type": "stream",
     "text": [
      "Please enter the first number:  100\n",
      "Please enter the second number:  30\n"
     ]
    },
    {
     "name": "stdout",
     "output_type": "stream",
     "text": [
      "1 >  A D D I T I O N  O P E R A T I O N ...\n",
      "2 >  S U B T R A C T I O N  O P E R A T I O N ...\n",
      "3 >  M U L T I P L I C A T I O N  O P E R A T I O N ...\n",
      "4 >  D I V I S I O N  O P E R A T I O N ...\n",
      "5 >  E X P O N E N T I A T I O N  O P E R A T I O N ...\n",
      "6 >  M O D U L U S  O P E R A T I O N ...\n"
     ]
    },
    {
     "name": "stdin",
     "output_type": "stream",
     "text": [
      "Please enter your choice number:  6\n"
     ]
    },
    {
     "name": "stdout",
     "output_type": "stream",
     "text": [
      "MODULUS Operation has been selected...\n",
      "So 100 % 30 = 10...\n",
      "End of the program...\n"
     ]
    }
   ],
   "source": [
    "# calculator program\n",
    "num1 = int(input(\"Please enter the first number: \"))\n",
    "num2 = int(input(\"Please enter the second number: \"))\n",
    "print (\"1 >  A D D I T I O N  O P E R A T I O N ...\")\n",
    "print (\"2 >  S U B T R A C T I O N  O P E R A T I O N ...\")\n",
    "print (\"3 >  M U L T I P L I C A T I O N  O P E R A T I O N ...\")\n",
    "print (\"4 >  D I V I S I O N  O P E R A T I O N ...\")\n",
    "print (\"5 >  E X P O N E N T I A T I O N  O P E R A T I O N ...\")\n",
    "print (\"6 >  M O D U L U S  O P E R A T I O N ...\")\n",
    "choice = int(input(\"Please enter your choice number: \"))\n",
    "if (choice == 1):\n",
    "    print (\"ADDITION Operation has been selected...\")\n",
    "    result = num1 + num2\n",
    "    print (f\"So {num1} + {num2} = {result}...\")\n",
    "elif (choice == 2):\n",
    "    print (\"SUBTRACTION Operation has been selected...\")\n",
    "    result = num1 - num2\n",
    "    print (f\"So {num1} - {num2} = {result}...\")\n",
    "elif (choice == 3):\n",
    "    print (\"MULTIPLICATION Operation has been selected...\")\n",
    "    result = num1 * num2\n",
    "    print (f\"So {num1} * {num2} = {result}...\")\n",
    "elif (choice == 4):\n",
    "    print (\"DIVISION Operation has been selected...\")\n",
    "    if (num2 == 0):\n",
    "        print (\"DIVISION by ZERO is Illegal !!!\")\n",
    "        print (\"DIVISION Operation can not be carried out...\")\n",
    "    else:\n",
    "        result = num1 / num2\n",
    "        print (f\"So {num1} / {num2} = {result}...\")\n",
    "elif (choice == 5):\n",
    "    print (\"EXPONENTIATION Operation has been selected...\")\n",
    "    result = num1 ** num2\n",
    "    print (f\"So {num1} ** {num2} = {result}...\")\n",
    "elif (choice == 6):\n",
    "    print (\"MODULUS Operation has been selected...\")\n",
    "    result = num1 % num2\n",
    "    print (f\"So {num1} % {num2} = {result}...\")\n",
    "else:\n",
    "    print (\"INVALID Choice Number has been provided !!!\")\n",
    "    print (\"No OPERATION could be carried out...\")\n",
    "print (\"End of the program...\")"
   ]
  },
  {
   "cell_type": "markdown",
   "id": "b7989fcc-4c00-4895-926b-c038008bc003",
   "metadata": {},
   "source": [
    "## **Dealing with 'print' statement**"
   ]
  },
  {
   "cell_type": "code",
   "execution_count": 9,
   "id": "84d06f22-beba-4903-8826-d26661d494a7",
   "metadata": {},
   "outputs": [
    {
     "name": "stdout",
     "output_type": "stream",
     "text": [
      "Hello\n",
      "Welcome\n",
      "Hello, Welcome\n"
     ]
    }
   ],
   "source": [
    "print (\"Hello\")\n",
    "print (\"Welcome\")\n",
    "print (\"Hello\", end = \", \")\n",
    "print (\"Welcome\")"
   ]
  },
  {
   "cell_type": "code",
   "execution_count": 8,
   "id": "886503ee-ca39-40ee-915d-6cd78df2c9fd",
   "metadata": {},
   "outputs": [
    {
     "name": "stdout",
     "output_type": "stream",
     "text": [
      "Hello Welcome\n",
      "Hello-Welcome\n",
      "Hello - Welcome\n"
     ]
    }
   ],
   "source": [
    "print (\"Hello\", \"Welcome\")\n",
    "print (\"Hello\", \"Welcome\", sep = \"-\")\n",
    "print (\"Hello\", \"Welcome\", sep = \" - \")"
   ]
  },
  {
   "cell_type": "code",
   "execution_count": 6,
   "id": "c7ef9f51-d779-411b-b909-70a6c244a760",
   "metadata": {},
   "outputs": [
    {
     "name": "stdout",
     "output_type": "stream",
     "text": [
      "Help on built-in function print in module builtins:\n",
      "\n",
      "print(...)\n",
      "    print(value, ..., sep=' ', end='\\n', file=sys.stdout, flush=False)\n",
      "    \n",
      "    Prints the values to a stream, or to sys.stdout by default.\n",
      "    Optional keyword arguments:\n",
      "    file:  a file-like object (stream); defaults to the current sys.stdout.\n",
      "    sep:   string inserted between values, default a space.\n",
      "    end:   string appended after the last value, default a newline.\n",
      "    flush: whether to forcibly flush the stream.\n",
      "\n"
     ]
    }
   ],
   "source": [
    "help (print)   # ... ellipsis"
   ]
  },
  {
   "cell_type": "markdown",
   "id": "9fad5f2b-ed00-40ed-8b7b-f96a9d3f006e",
   "metadata": {},
   "source": [
    "## **Section-2**"
   ]
  },
  {
   "cell_type": "markdown",
   "id": "7a7c9604-8ca5-4119-94ac-f753d617cdc3",
   "metadata": {},
   "source": [
    "## **Python Loops**"
   ]
  },
  {
   "cell_type": "code",
   "execution_count": 18,
   "id": "85024cca-2cb2-470e-b070-3fa74d35b1ff",
   "metadata": {},
   "outputs": [
    {
     "name": "stdout",
     "output_type": "stream",
     "text": [
      "i = 0, i = 1, i = 2, i = 3, i = 4, i = 5, i = 6, i = 7, i = 8, i = 9, \n",
      "i = 0, i = 1, i = 2, i = 3, i = 4, i = 5, i = 6, i = 7, i = 8, i = 9, \n",
      "i = 1, i = 3, i = 5, i = 7, i = 9, \n",
      "i = 10, i = 9, i = 8, i = 7, i = 6, i = 5, i = 4, i = 3, i = 2, i = 1, "
     ]
    }
   ],
   "source": [
    "for i in range(10):\n",
    "    print (f\"i = {i}\", end = \", \")\n",
    "print ()\n",
    "for i in range(0, 10, 1):\n",
    "    print (f\"i = {i}\", end = \", \")\n",
    "print ()\n",
    "for i in range(1, 10, 2):\n",
    "    print (f\"i = {i}\", end = \", \")\n",
    "print ()\n",
    "for i in range(10, 0, -1):\n",
    "    print (f\"i = {i}\", end = \", \")"
   ]
  },
  {
   "cell_type": "code",
   "execution_count": 20,
   "id": "217d9957-67d1-4ffb-9247-f4e741fa1cd0",
   "metadata": {},
   "outputs": [
    {
     "name": "stdout",
     "output_type": "stream",
     "text": [
      "i = 101, i = Amitava, i = Developer, i = Pune, i = 45000, "
     ]
    }
   ],
   "source": [
    "for i in [101, \"Amitava\", \"Developer\", \"Pune\", 45000]:\n",
    "    print (f\"i = {i}\", end = \", \")"
   ]
  },
  {
   "cell_type": "code",
   "execution_count": 22,
   "id": "661ce84a-5030-43fb-8351-93560e5192b6",
   "metadata": {},
   "outputs": [
    {
     "name": "stdout",
     "output_type": "stream",
     "text": [
      "i = 0, i = 1, i = 2, i = 3, i = 4, i = 5, i = 6, i = 7, i = 8, i = 9, \n",
      "Executing the ELSE block...\n",
      "End of the program...\n"
     ]
    }
   ],
   "source": [
    "for i in range(10):\n",
    "    print (f\"i = {i}\", end = \", \")\n",
    "else:\n",
    "    print (\"\\nExecuting the ELSE block...\")\n",
    "print (\"End of the program...\")"
   ]
  },
  {
   "cell_type": "code",
   "execution_count": 25,
   "id": "f49360f4-436c-40b3-bd77-44ed48ea4b57",
   "metadata": {},
   "outputs": [
    {
     "name": "stdout",
     "output_type": "stream",
     "text": [
      "i = 0, i = 1, i = 2, i = 3, i = 4, i = 5, \n",
      "End of the program...\n"
     ]
    }
   ],
   "source": [
    "for i in range(10):\n",
    "    print (f\"i = {i}\", end = \", \")\n",
    "    if (i == 5): break\n",
    "else:\n",
    "    print (\"\\nExecuting the ELSE block...\")\n",
    "print (\"\\nEnd of the program...\")"
   ]
  },
  {
   "cell_type": "code",
   "execution_count": 27,
   "id": "6db2a7be-760a-4370-8946-986ec4031865",
   "metadata": {},
   "outputs": [
    {
     "name": "stdout",
     "output_type": "stream",
     "text": [
      "101 is a Prime Number...\n",
      "End of the program...\n"
     ]
    }
   ],
   "source": [
    "# check whether a number is a PRIME Number or not\n",
    "num = 101\n",
    "for i in range(2, 100):\n",
    "    if (num % i == 0):\n",
    "        print (f\"{num} is NOT a Prime Number...\")\n",
    "        break\n",
    "else:\n",
    "    print (f\"{num} is a Prime Number...\")\n",
    "print (\"End of the program...\")"
   ]
  },
  {
   "cell_type": "code",
   "execution_count": 32,
   "id": "253c0a49-2fd4-409b-86c7-eb3cab2ecf58",
   "metadata": {},
   "outputs": [
    {
     "name": "stdout",
     "output_type": "stream",
     "text": [
      "101 is a Prime Number...\n",
      "End of the program...\n"
     ]
    }
   ],
   "source": [
    "# check whether a number is a PRIME Number or not\n",
    "num = 101\n",
    "for i in range(2, 100):\n",
    "    if (num % i != 0):\n",
    "        pass    # pass is a statement place holder\n",
    "    else:\n",
    "        print (f\"{num} is NOT a Prime Number...\")\n",
    "        break\n",
    "else:\n",
    "    print (f\"{num} is a Prime Number...\")\n",
    "print (\"End of the program...\")"
   ]
  },
  {
   "cell_type": "code",
   "execution_count": 37,
   "id": "4e4b1cb8-886e-4882-aae2-dfd1cb8f9093",
   "metadata": {},
   "outputs": [
    {
     "name": "stdout",
     "output_type": "stream",
     "text": [
      "i = 0\n",
      "i = 1\n",
      "i = 2\n",
      "i = 3\n",
      "i = 4\n",
      "Continue with the loop...\n",
      "i = 6\n",
      "i = 7\n",
      "Continue with the loop...\n",
      "i = 9\n",
      "Executing the ELSE block...\n",
      "End of the program...\n"
     ]
    }
   ],
   "source": [
    "for i in range(10):\n",
    "    if (i == 5 or i == 8):\n",
    "        print (\"Continue with the loop...\")\n",
    "        continue\n",
    "    print (f\"i = {i}\")\n",
    "else:\n",
    "    print (\"Executing the ELSE block...\")\n",
    "print (\"End of the program...\")"
   ]
  },
  {
   "cell_type": "code",
   "execution_count": 1,
   "id": "047925a4-3f92-44fd-87b6-be3b57796d1a",
   "metadata": {},
   "outputs": [
    {
     "name": "stdout",
     "output_type": "stream",
     "text": [
      "executing for i = 1\n",
      "executing for i = 2\n",
      "executing for i = 3\n",
      "executing for i = 4\n",
      "executing for i = 5\n",
      "executing for i = 6\n",
      "executing for i = 7\n",
      "executing for i = 8\n",
      "ELSE Block is executing...\n",
      "End of the program...\n"
     ]
    }
   ],
   "source": [
    "i = 1\n",
    "while (i <= 8):\n",
    "    print (\"executing for i =\", i)\n",
    "    i = i + 1\n",
    "else:\n",
    "    print (\"ELSE Block is executing...\")\n",
    "print (\"End of the program...\")"
   ]
  },
  {
   "cell_type": "code",
   "execution_count": 6,
   "id": "bec4f3c9-48b9-40a2-8297-e44d2650ea94",
   "metadata": {},
   "outputs": [
    {
     "name": "stdout",
     "output_type": "stream",
     "text": [
      "Visit Doctor...\n",
      "Good Morning...\n",
      "Day Number is: 1 and Medicine Number is: 1...\n",
      "Day Number is: 1 and Medicine Number is: 2...\n",
      "Day Number is: 1 and Medicine Number is: 3...\n",
      "Good Night...\n",
      "=====================================\n",
      "Good Morning...\n",
      "Day Number is: 2 and Medicine Number is: 1...\n",
      "Day Number is: 2 and Medicine Number is: 2...\n",
      "Day Number is: 2 and Medicine Number is: 3...\n",
      "Good Night...\n",
      "=====================================\n",
      "Good Morning...\n",
      "Day Number is: 3 and Medicine Number is: 1...\n",
      "Day Number is: 3 and Medicine Number is: 2...\n",
      "Day Number is: 3 and Medicine Number is: 3...\n",
      "Good Night...\n",
      "=====================================\n",
      "Good Morning...\n",
      "Day Number is: 4 and Medicine Number is: 1...\n",
      "Day Number is: 4 and Medicine Number is: 2...\n",
      "Day Number is: 4 and Medicine Number is: 3...\n",
      "Good Night...\n",
      "=====================================\n",
      "Good Morning...\n",
      "Day Number is: 5 and Medicine Number is: 1...\n",
      "Day Number is: 5 and Medicine Number is: 2...\n",
      "Day Number is: 5 and Medicine Number is: 3...\n",
      "Good Night...\n",
      "=====================================\n",
      "Total number of medicine consumed is: 15\n",
      "Thanks to Doctor...\n"
     ]
    }
   ],
   "source": [
    "# nested looping\n",
    "print (\"Visit Doctor...\")    # 1 time\n",
    "medicount = 0    # 1 time\n",
    "for day in range(1, 6):\n",
    "    print (\"Good Morning...\")    # 5 times\n",
    "    for medi in range(1, 4):\n",
    "        print (f\"Day Number is: {day} and Medicine Number is: {medi}...\")    # 15 times\n",
    "        medicount += 1    # 15 times\n",
    "    print (\"Good Night...\")    # 5 times\n",
    "    print (\"=====================================\")    # 5 times\n",
    "print (\"Total number of medicine consumed is:\", medicount)    # 1 time\n",
    "print (\"Thanks to Doctor...\")    # 1 time"
   ]
  },
  {
   "cell_type": "markdown",
   "id": "8d799cd3-2ae7-46e5-9d94-1bee762a4904",
   "metadata": {},
   "source": [
    "### Home work:\n",
    "\n",
    "> Rewrite the previous Python code in nested while loop constructs"
   ]
  },
  {
   "cell_type": "code",
   "execution_count": 12,
   "id": "3ffc1ba2-2b82-4ab9-9ba0-1b3f11523edf",
   "metadata": {},
   "outputs": [
    {
     "name": "stdout",
     "output_type": "stream",
     "text": [
      "HelloHelloHelloHelloHello\n",
      "Welcome Welcome Welcome Welcome Welcome Welcome Welcome \n",
      "Banana\n"
     ]
    }
   ],
   "source": [
    "print (\"Hello\" * 5)\n",
    "print (\"Welcome \" * 7)\n",
    "print (\"Ba\" + \"na\" * 2)"
   ]
  },
  {
   "cell_type": "code",
   "execution_count": null,
   "id": "33e20053-fb66-4ac1-a95b-8d344eaab149",
   "metadata": {},
   "outputs": [],
   "source": [
    "# Pattern Printing\n",
    "n = 6 (number of layers in the pattern and user given)\n",
    "                 i   .   *\n",
    "               -------------\n",
    ".....*           1   5   1         (i, n)\n",
    "....***          2   4   3   . => (n - i)\n",
    "...*****         3   3   5\n",
    "..*******        4   2   7   * => (2 * i - 1)\n",
    ".*********       5   1   9\n",
    "***********      6   0  11\n",
    "               -------------\n",
    "               Tracing Table"
   ]
  },
  {
   "cell_type": "code",
   "execution_count": 16,
   "id": "8524aff1-26d3-4be0-a39b-36833d5ec506",
   "metadata": {},
   "outputs": [
    {
     "name": "stdin",
     "output_type": "stream",
     "text": [
      "Please enter the number of layers of the pattern:  6\n"
     ]
    },
    {
     "name": "stdout",
     "output_type": "stream",
     "text": [
      ".....*\n",
      "....***\n",
      "...*****\n",
      "..*******\n",
      ".*********\n",
      "***********\n",
      "End of the program...\n"
     ]
    }
   ],
   "source": [
    "n = int(input(\"Please enter the number of layers of the pattern: \"))\n",
    "for i in range(1, n + 1):\n",
    "    print (\".\" * (n - i) + \"*\" * (2 * i - 1))\n",
    "print (\"End of the program...\")"
   ]
  },
  {
   "cell_type": "markdown",
   "id": "46af5428-d062-415b-9441-1148a2aaa2d4",
   "metadata": {},
   "source": [
    " ## **Python Inbuilt Collections**"
   ]
  },
  {
   "cell_type": "code",
   "execution_count": 2,
   "id": "5df05dbc-ac22-41e6-ab77-ea593939dfcc",
   "metadata": {},
   "outputs": [
    {
     "name": "stdout",
     "output_type": "stream",
     "text": [
      "[100, 2.45, True, 'Food', 201] 5 <class 'list'> 2872915420864\n",
      "(100, 2.45, True, 'Food', 201) 5 <class 'tuple'> 2872914977920\n",
      "{'name': 'Bidisha', 'location': 'Noida', 'job': 'Developer', 'company': 'Accenture'} 4 <class 'dict'> 2872915337920\n",
      "{True, 2.45, 'Food', 100, 'Delhi', 201} 6 <class 'set'> 2872913800640\n",
      "frozenset({True, 2.45, 'Food', 100, 201, 'Delhi'}) 6 <class 'frozenset'> 2872913801312\n"
     ]
    }
   ],
   "source": [
    "# different inbuilt collections\n",
    "list1 = [100, 2.45, True, \"Food\", 201]   # mutable\n",
    "print (list1, len(list1), type(list1), id(list1))\n",
    "tuple1 = (100, 2.45, True, \"Food\", 201)   # immutable, read only\n",
    "print (tuple1, len(tuple1), type(tuple1), id(tuple1))\n",
    "dict1 = {'name':'Bidisha', 'location':'Noida', 'job':'Developer', 'company':'Accenture'}    # mutable\n",
    "print (dict1, len(dict1), type(dict1), id(dict1))\n",
    "set1 = {\"Delhi\", 100, 2.45, True, \"Food\", 201, True, \"Food\", 201}\n",
    "print (set1, len(set1), type(set1), id(set1))\n",
    "fset1 = frozenset([\"Delhi\", 100, 2.45, True, \"Food\", 201, True, \"Food\", 201]) # immutable, read only\n",
    "print (fset1, len(fset1), type(fset1), id(fset1))"
   ]
  },
  {
   "cell_type": "code",
   "execution_count": 22,
   "id": "529bf940-ed36-4bc8-8ae0-0858917a85ac",
   "metadata": {},
   "outputs": [
    {
     "name": "stdout",
     "output_type": "stream",
     "text": [
      "[] 0 <class 'list'>\n",
      "() 0 <class 'tuple'>\n",
      "{} 0 <class 'dict'>\n",
      "set() 0 <class 'set'>\n",
      "frozenset() 0 <class 'frozenset'>\n"
     ]
    }
   ],
   "source": [
    "# dealing with empty collections\n",
    "var1 = []; print (var1, len(var1), type(var1))\n",
    "var1 = (); print (var1, len(var1), type(var1))\n",
    "var1 = {}; print (var1, len(var1), type(var1))\n",
    "var1 = set(); print (var1, len(var1), type(var1))\n",
    "var1 = frozenset(); print (var1, len(var1), type(var1))"
   ]
  },
  {
   "cell_type": "markdown",
   "id": "91858929-a3cd-4836-8c35-9b80ce1ab5f8",
   "metadata": {},
   "source": [
    "## **Section-3**"
   ]
  },
  {
   "cell_type": "markdown",
   "id": "cd36af32-c76c-445f-8787-dcdd4f90202f",
   "metadata": {},
   "source": [
    "## **User Defined Function (UDF)**"
   ]
  },
  {
   "cell_type": "code",
   "execution_count": 4,
   "id": "3b7ca5a4-98b5-4aeb-962a-3b9a3a9a478e",
   "metadata": {},
   "outputs": [
    {
     "name": "stdout",
     "output_type": "stream",
     "text": [
      "Hello Hello Hello \n",
      "Hello Hello Hello \n",
      "Hello Hello Hello \n"
     ]
    }
   ],
   "source": [
    "def funct1():\n",
    "    print (\"Hello \" * 3)\n",
    "    \n",
    "funct1()\n",
    "funct1()\n",
    "funct1()"
   ]
  },
  {
   "cell_type": "code",
   "execution_count": 6,
   "id": "54e04662-3a56-4f9a-9256-43d87124a9ac",
   "metadata": {},
   "outputs": [
    {
     "name": "stdout",
     "output_type": "stream",
     "text": [
      "Hello Hello Hello Hello Hello Hello Hello Hello Hello Hello \n",
      "Welcome Welcome Welcome Welcome Welcome \n",
      "Good Bye Good Bye Good Bye \n"
     ]
    }
   ],
   "source": [
    "def funct2(msg, times):   # msg and times are called as positional parameters\n",
    "    print (msg * times)\n",
    "\n",
    "funct2 (\"Hello \", 10)     # \"Hello \" and 10 are called as positional arguments\n",
    "funct2 (\"Welcome \", 5)     # \"Welcome \" and 5 are called as positional arguments\n",
    "funct2 (\"Good Bye \", 3)     # \"Good Bye \" and 3 are called as positional arguments"
   ]
  },
  {
   "cell_type": "code",
   "execution_count": 7,
   "id": "312ca730-88a7-4743-99f1-d9087e1d56ba",
   "metadata": {},
   "outputs": [
    {
     "name": "stdout",
     "output_type": "stream",
     "text": [
      "Hello Hello Hello Hello Hello Hello Hello Hello Hello Hello \n",
      "Welcome Welcome Welcome Welcome Welcome \n",
      "Hi Hi Hi Hi Hi Hi \n"
     ]
    }
   ],
   "source": [
    "def funct3(msg, times):\n",
    "    return msg * times\n",
    "\n",
    "print (funct3(\"Hello \", 10))\n",
    "print (funct3(\"Welcome \", 5))\n",
    "result = funct3(\"Hi \", 6)\n",
    "print (result)"
   ]
  },
  {
   "cell_type": "code",
   "execution_count": 17,
   "id": "c7d97211-3b01-4f9f-b158-41f314d3a877",
   "metadata": {},
   "outputs": [
    {
     "name": "stdout",
     "output_type": "stream",
     "text": [
      "par1 = 100, par2 = 200 and par3 = 300...\n",
      "par1 = 100, par2 = 200 and par3 = 333...\n",
      "par1 = 100, par2 = 222 and par3 = 333...\n",
      "par1 = 111, par2 = 222 and par3 = 333...\n",
      "par1 = 111, par2 = 200 and par3 = 300...\n",
      "par1 = 100, par2 = 222 and par3 = 300...\n"
     ]
    }
   ],
   "source": [
    "# function with default arguments\n",
    "def funct4(par1 = 111, par2 = 222, par3 = 333):\n",
    "    print(f\"par1 = {par1}, par2 = {par2} and par3 = {par3}...\")\n",
    "    \n",
    "funct4(100, 200, 300)\n",
    "funct4(100, 200)\n",
    "funct4(100)\n",
    "funct4()\n",
    "funct4(par2 = 200, par3 = 300)\n",
    "funct4(par3 = 300, par1 = 100)"
   ]
  },
  {
   "cell_type": "code",
   "execution_count": 19,
   "id": "de9e2687-7c79-4996-85d4-500296367094",
   "metadata": {},
   "outputs": [
    {
     "name": "stdout",
     "output_type": "stream",
     "text": [
      "500\n",
      "200\n"
     ]
    }
   ],
   "source": [
    "def funct5(num1, num2 = None):\n",
    "    # if (num2 == None):\n",
    "    if (num2 is None):\n",
    "        return 2 * num1\n",
    "    else:\n",
    "        return num1 + num2\n",
    "    \n",
    "print (funct5(100, 400))\n",
    "print (funct5(100))"
   ]
  },
  {
   "cell_type": "code",
   "execution_count": 21,
   "id": "51b6bf6c-3084-43a6-a5e7-f9efa8d52645",
   "metadata": {},
   "outputs": [
    {
     "name": "stdout",
     "output_type": "stream",
     "text": [
      "Total = 140, Difference = 60, Product = 4000 and Quotient = 2.5...\n",
      "(140, 60, 4000, 2.5) <class 'tuple'> 4\n",
      "Total = 140, Difference = 60, Product = 4000 and Quotient = 2.5...\n"
     ]
    }
   ],
   "source": [
    "# function returning multiple arguments\n",
    "def funct6(num1, num2): \n",
    "    total = num1 + num2\n",
    "    difference = num1 - num2\n",
    "    product = num1 * num2\n",
    "    quotient = num1 / num2\n",
    "    return total, difference, product, quotient\n",
    "\n",
    "tt, dd, pp, qq = funct6(100, 40)\n",
    "print (f\"Total = {tt}, Difference = {dd}, Product = {pp} and Quotient = {qq}...\")\n",
    "result = funct6(100, 40)\n",
    "print (result, type(result), len(result))\n",
    "print (f\"Total = {result[0]}, Difference = {result[1]}, Product = {result[2]} and Quotient = {result[3]}...\")"
   ]
  },
  {
   "cell_type": "code",
   "execution_count": 23,
   "id": "ee3601a9-cf68-47fa-a9af-2fdefd08b18e",
   "metadata": {},
   "outputs": [
    {
     "name": "stdout",
     "output_type": "stream",
     "text": [
      "('Amitava', 'Developer', 65000) 3 <class 'tuple'> 2872942975104\n",
      "('Amitava', 'Developer', 65000, 'Pune') 4 <class 'tuple'> 2872944187872\n",
      "('Amitava', 'Developer', 65000, 'Pune', 'Masters') 5 <class 'tuple'> 2872914972480\n"
     ]
    }
   ],
   "source": [
    "# function with variable number of arguments\n",
    "def funct7(*arg):    # *arg means forcefully defining arg as a tuple\n",
    "    print (arg, len(arg), type(arg), id(arg))\n",
    "    \n",
    "funct7(\"Amitava\", \"Developer\", 65000)\n",
    "funct7(\"Amitava\", \"Developer\", 65000, \"Pune\")\n",
    "funct7(\"Amitava\", \"Developer\", 65000, \"Pune\", \"Masters\")"
   ]
  },
  {
   "cell_type": "code",
   "execution_count": 25,
   "id": "b6b3edf0-c3b3-4c51-82ef-f811a89426d8",
   "metadata": {},
   "outputs": [
    {
     "name": "stdout",
     "output_type": "stream",
     "text": [
      "{'name': 'Amitava', 'job': 'Developer', 'salary': 65000, 'location': 'Pune'} 4 <class 'dict'> 2872947372480\n",
      "{'name': 'Amitava', 'job': 'Developer', 'salary': 65000, 'location': 'Pune', 'qualification': 'ME'} 5 <class 'dict'> 2872946835520\n"
     ]
    }
   ],
   "source": [
    "# function with variable number of arguments\n",
    "def funct8(**kwarg):     # **kwarg means forcefully defining kwarg as a dictionary type key-word argument\n",
    "    print (kwarg, len(kwarg), type(kwarg), id(kwarg))\n",
    "    \n",
    "funct8(name = \"Amitava\", job = \"Developer\", salary = 65000, location = \"Pune\")\n",
    "funct8(name = \"Amitava\", job = \"Developer\", salary = 65000, location = \"Pune\", qualification = \"ME\")"
   ]
  },
  {
   "cell_type": "code",
   "execution_count": 27,
   "id": "b8e1e014-ebd4-46ba-ad79-8c4dc66f56f2",
   "metadata": {},
   "outputs": [
    {
     "name": "stdout",
     "output_type": "stream",
     "text": [
      "('Amitava', 'Developer', 65000) 3 <class 'tuple'> 2872946273088\n",
      "{'location': 'Pune', 'qualification': 'Masters', 'hobby': 'drawing'} 3 <class 'dict'> 2872947458496\n",
      "\n",
      "('Amitava', 'Developer', 65000) 3 <class 'tuple'> 2872946845120\n",
      "{} 0 <class 'dict'> 2872947458368\n",
      "\n",
      "() 0 <class 'tuple'> 2872828969072\n",
      "{'location': 'Pune', 'qualification': 'Masters', 'hobby': 'drawing'} 3 <class 'dict'> 2872947612672\n"
     ]
    }
   ],
   "source": [
    "# function with variable number of arguments\n",
    "def funct9(*arg, **kwarg):\n",
    "    print (arg, len(arg), type(arg), id(arg))\n",
    "    print (kwarg, len(kwarg), type(kwarg), id(kwarg))\n",
    "    \n",
    "funct9(\"Amitava\", \"Developer\", 65000, location = \"Pune\", qualification = \"Masters\", hobby='drawing')\n",
    "print ()\n",
    "funct9(\"Amitava\", \"Developer\", 65000)\n",
    "print ()\n",
    "funct9(location = \"Pune\", qualification = \"Masters\", hobby = 'drawing')"
   ]
  },
  {
   "cell_type": "code",
   "execution_count": 30,
   "id": "ed561ded-08bf-4faf-b5b3-016c82b13064",
   "metadata": {},
   "outputs": [
    {
     "name": "stdout",
     "output_type": "stream",
     "text": [
      "Executing for i = 1...\n",
      "Executing for i = 2...\n",
      "Executing for i = 3...\n",
      "Executing for i = 4...\n",
      "Executing for i = 5...\n",
      "So factorial of 5 is 120...\n"
     ]
    }
   ],
   "source": [
    "# non-recursive factorial calculating function\n",
    "# 5! = 1 * 2 * 3 * 4 * 5 = 5 * 4 * 3 * 2 * 1 = 120\n",
    "def factorial_nr(num):\n",
    "    if (num == 0 or num == 1): return 1\n",
    "    fact = 1\n",
    "    for i in range(1, num + 1):\n",
    "        print (f\"Executing for i = {i}...\")\n",
    "        fact *= i\n",
    "    return fact\n",
    "\n",
    "n = 5\n",
    "result = factorial_nr(n)\n",
    "print (f\"So factorial of {n} is {result}...\")"
   ]
  },
  {
   "cell_type": "code",
   "execution_count": 32,
   "id": "35f63428-521e-474d-9443-45229aaa4562",
   "metadata": {},
   "outputs": [
    {
     "name": "stdout",
     "output_type": "stream",
     "text": [
      "So factorial of 5 is 120...\n"
     ]
    }
   ],
   "source": [
    "# recursive factorial calculating function\n",
    "# 5! = 1 * 2 * 3 * 4 * 5 = 5 * 4 * 3 * 2 * 1 = 120\n",
    "def factorial_r(num):\n",
    "    if (num == 0 or num == 1): return 1  # base case: for certain input values outputs are pre-known\n",
    "    return num * factorial_r(num - 1)    # reursive case: the function will call itself\n",
    "\n",
    "n = 5\n",
    "result = factorial_r(n)\n",
    "print (f\"So factorial of {n} is {result}...\")"
   ]
  },
  {
   "cell_type": "code",
   "execution_count": null,
   "id": "338f3eb3-6c31-4655-8dec-176317c52d3d",
   "metadata": {},
   "outputs": [],
   "source": [
    "5! = 5 * 4!\n",
    "         4 * 3!\n",
    "             3 * 2!\n",
    "                 2 * 1!\n",
    "                     1\n",
    "                 2\n",
    "             6\n",
    "         24\n",
    "     120"
   ]
  },
  {
   "cell_type": "markdown",
   "id": "2d99fe20-201c-41ac-aedf-dd8d50cea847",
   "metadata": {},
   "source": [
    "## **Lambda Function**\n",
    "\n",
    "> In Python programming, a lambda function is a small anonymous function that can have any number of arguments, but can only have one expression. The expression is evaluated and returned as the function result. Lambda functions are commonly used in combination with higher-order functions such as map(), filter(), and reduce().\n",
    "\n",
    "Some of the properties of lambda functions in Python programming include:\n",
    "* **Anonymous:** Lambda functions are anonymous, meaning they do not have a name like regular functions. They are defined using the keyword \"lambda\" followed by the arguments and the expression.\n",
    "* **Single Expression:** A lambda function can only contain a single expression that is evaluated and returned as the function result. This means that it cannot contain multiple statements or control flow structures.\n",
    "* **Concise:** Lambda functions are concise and can be defined in a single line of code. This makes them useful for defining simple functions on-the-fly.\n",
    "* **Immutable:** Lambda functions are immutable, meaning they cannot be modified once defined. This means that you cannot change the behavior of a lambda function after it has been defined.\n",
    "* **Higher-order Functions:** Lambda functions are often used in combination with higher-order functions such as map(), filter(), and reduce(). These functions take other functions as arguments and return new functions as results.\n",
    "* **Memory-efficient:** Lambda functions are memory-efficient since they are defined on-the-fly and do not require a separate function definition. This can be useful when working with large data sets or when memory usage is a concern.#### Lambda Function\n",
    "> In Python programming, a lambda function is a small anonymous function that can have any number of arguments, but can only have one expression. The expression is evaluated and returned as the function result. Lambda functions are commonly used in combination with higher-order functions such as map(), filter(), and reduce().\n",
    "\n",
    "Some of the properties of lambda functions in Python programming include:\n",
    "* **Anonymous:** Lambda functions are anonymous, meaning they do not have a name like regular functions. They are defined using the keyword \"lambda\" followed by the arguments and the expression.\n",
    "* **Single Expression:** A lambda function can only contain a single expression that is evaluated and returned as the function result. This means that it cannot contain multiple statements or control flow structures.\n",
    "* **Concise:** Lambda functions are concise and can be defined in a single line of code. This makes them useful for defining simple functions on-the-fly.\n",
    "* **Immutable:** Lambda functions are immutable, meaning they cannot be modified once defined. This means that you cannot change the behavior of a lambda function after it has been defined.\n",
    "* **Higher-order Functions:** Lambda functions are often used in combination with higher-order functions such as map(), filter(), and reduce(). These functions take other functions as arguments and return new functions as results.\n",
    "* **Memory-efficient:** Lambda functions are memory-efficient since they are defined on-the-fly and do not require a separate function definition. This can be useful when working with large data sets or when memory usage is a concern."
   ]
  },
  {
   "cell_type": "code",
   "execution_count": 33,
   "id": "7882db90-630f-46cf-a9c2-aa54afa5a1b1",
   "metadata": {},
   "outputs": [
    {
     "name": "stdout",
     "output_type": "stream",
     "text": [
      "25 <function <lambda> at 0x0000029CE93F41F0> <class 'function'> 2872951390704\n",
      "36\n"
     ]
    }
   ],
   "source": [
    "# lambda function\n",
    "my_square = lambda num: num * num\n",
    "\n",
    "print (my_square(5), my_square, type(my_square), id(my_square))\n",
    "result = my_square(6)\n",
    "print (result)"
   ]
  },
  {
   "cell_type": "code",
   "execution_count": 34,
   "id": "d2795be1-d1e8-4c34-a743-c41d9eb7dd41",
   "metadata": {},
   "outputs": [
    {
     "name": "stdout",
     "output_type": "stream",
     "text": [
      "900 <function <lambda> at 0x0000029CE93F4700> <class 'function'> 2872951392000\n",
      "800\n"
     ]
    }
   ],
   "source": [
    "my_addition = lambda num1, num2: num1 + num2\n",
    "\n",
    "print (my_addition(500, 400), my_addition, type(my_addition), id(my_addition))\n",
    "result = my_addition(300, 500)\n",
    "print (result)"
   ]
  },
  {
   "cell_type": "markdown",
   "id": "400d2e99-4d09-43e4-b4c7-18016b4d5e9b",
   "metadata": {},
   "source": [
    "## **Importing Modules**"
   ]
  },
  {
   "cell_type": "code",
   "execution_count": 2,
   "id": "439c9388-aad2-4e62-b145-f0cfe19bbbd1",
   "metadata": {},
   "outputs": [],
   "source": [
    "# importing required modules\n",
    "import math"
   ]
  },
  {
   "cell_type": "code",
   "execution_count": 17,
   "id": "e1219f39-49e6-4a31-a898-36a6b885c2ab",
   "metadata": {},
   "outputs": [
    {
     "name": "stdout",
     "output_type": "stream",
     "text": [
      "0.0 1.0 0.0\n",
      "0.0 1.0 0.0\n",
      "0.0 1.5707963267948966 0.0\n",
      "1024.0 120 720\n",
      "3.141592653589793 2.718281828459045 6.283185307179586\n",
      "2.302585092994046 2.302585092994046\n",
      "10.0 10.0\n",
      "2.9999999999999996 3.0\n"
     ]
    }
   ],
   "source": [
    "print (math.sin(0), math.cos(0), math.tan(0))\n",
    "print (math.sinh(0), math.cosh(0), math.tanh(0))\n",
    "print (math.asin(0), math.acos(0), math.atan(0))\n",
    "print (math.pow(2, 10), math.factorial(5), math.factorial(6))\n",
    "print (math.pi, math.e, math.tau)\n",
    "print (math.log(10), math.log(10, math.e))\n",
    "print (math.log(1024, 2), math.log2(1024))\n",
    "print (math.log(1000, 10), math.log10(1000))"
   ]
  },
  {
   "cell_type": "code",
   "execution_count": 26,
   "id": "fb11d0e5-f41d-4280-b79a-affd3d7e5b4d",
   "metadata": {},
   "outputs": [
    {
     "name": "stdout",
     "output_type": "stream",
     "text": [
      "20 200\n",
      "28.284271247461902 28.284271247461902\n",
      "101 101 100 100\n",
      "1000.0 22026.465794806703 22026.465794806718\n"
     ]
    }
   ],
   "source": [
    "print (math.gcd(100, 40), math.lcm(100, 40))\n",
    "print (math.dist((10, 20), (30, 40)), math.sqrt((10 - 30)**2 + (20 - 40)**2))\n",
    "print (math.ceil(100.1), math.ceil(100.9), math.floor(100.1), math.floor(100.9))\n",
    "print (math.pow(10, 3), math.pow(math.e, 10), math.exp(10))"
   ]
  },
  {
   "cell_type": "code",
   "execution_count": null,
   "id": "a9250dd7-e70e-4a0f-9efa-935e4e3067b8",
   "metadata": {},
   "outputs": [],
   "source": [
    "help(math)"
   ]
  },
  {
   "cell_type": "markdown",
   "id": "acb378d3-7f41-44c9-bf7e-c22e4b277b30",
   "metadata": {},
   "source": [
    "## **Section-4**"
   ]
  },
  {
   "cell_type": "markdown",
   "id": "7bfd4297-5d86-4e8d-ac9a-f2b29896aa0c",
   "metadata": {},
   "source": [
    "## **String Processing**"
   ]
  },
  {
   "cell_type": "code",
   "execution_count": null,
   "id": "985c69be-f042-4b59-a4ea-a35fa146f65e",
   "metadata": {},
   "outputs": [],
   "source": [
    "index left to right ->  0   1   2   3   4   5   6   7   8   9\n",
    "               mystr =  u   n   i   v   e   r   s   i   t   y\n",
    "index right to left ->-10  -9  -8  -7  -6  -5  -4  -3  -2  -1 "
   ]
  },
  {
   "cell_type": "code",
   "execution_count": 34,
   "id": "42c72490-cb72-4366-9f62-d5ce331c3be7",
   "metadata": {},
   "outputs": [
    {
     "name": "stdout",
     "output_type": "stream",
     "text": [
      "university 10 <class 'str'> 2385507250736\n",
      "v v t t\n",
      "niversi niversi niversi niversi\n"
     ]
    }
   ],
   "source": [
    "mystr = \"university\"\n",
    "print (mystr, len(mystr), type(mystr), id(mystr))\n",
    "print (mystr[3], mystr[-7], mystr[8], mystr[-2])    # indexing\n",
    "print (mystr[1:8], mystr[-9:-2], mystr[1:-2], mystr[-9:8])    # slicing"
   ]
  },
  {
   "cell_type": "code",
   "execution_count": 35,
   "id": "5872d02d-1073-4d4a-afe5-19d62de9f68e",
   "metadata": {},
   "outputs": [
    {
     "name": "stdout",
     "output_type": "stream",
     "text": [
      "caLCuTTa unIVerSitY 19 <class 'str'> 2385511746096\n",
      "CALCUTTA UNIVERSITY\n",
      "calcutta university\n",
      "Calcutta University\n",
      "Calcutta university\n",
      "CAlcUttA UNivERsITy\n",
      "          caLCuTTa unIVerSitY           \n",
      "               CALCUTTA UNIVERSITY                \n"
     ]
    }
   ],
   "source": [
    "mystr = \"caLCuTTa unIVerSitY\"\n",
    "print (mystr, len(mystr), type(mystr), id(mystr))\n",
    "print (mystr.upper())\n",
    "print (mystr.lower())\n",
    "print (mystr.title())\n",
    "print (mystr.capitalize())\n",
    "print (mystr.swapcase())\n",
    "print (mystr.center(40))\n",
    "print (mystr.upper().center(50))"
   ]
  },
  {
   "cell_type": "code",
   "execution_count": 36,
   "id": "f5967c71-7f9f-456c-b2e5-62e30e83db42",
   "metadata": {},
   "outputs": [
    {
     "name": "stdout",
     "output_type": "stream",
     "text": [
      "4\n",
      "4\n",
      "11\n",
      "11\n",
      "-1\n"
     ]
    }
   ],
   "source": [
    "mystr = \"charity begins at home\"\n",
    "print (mystr.find(\"ity\"))\n",
    "print (mystr.find(\"i\", 3))\n",
    "print (mystr.find(\"i\", 5))\n",
    "print (mystr.find(\"ins\", 11, 14))\n",
    "print (mystr.find(\"ins\", 11, 13))"
   ]
  },
  {
   "cell_type": "code",
   "execution_count": 37,
   "id": "e86df2d8-3b43-49da-a956-d59deb2d281f",
   "metadata": {},
   "outputs": [
    {
     "name": "stdout",
     "output_type": "stream",
     "text": [
      "4\n",
      "4\n",
      "11\n",
      "11\n"
     ]
    },
    {
     "ename": "ValueError",
     "evalue": "substring not found",
     "output_type": "error",
     "traceback": [
      "\u001b[1;31m---------------------------------------------------------------------------\u001b[0m",
      "\u001b[1;31mValueError\u001b[0m                                Traceback (most recent call last)",
      "Cell \u001b[1;32mIn[37], line 6\u001b[0m\n\u001b[0;32m      4\u001b[0m \u001b[38;5;28mprint\u001b[39m (mystr\u001b[38;5;241m.\u001b[39mindex(\u001b[38;5;124m\"\u001b[39m\u001b[38;5;124mi\u001b[39m\u001b[38;5;124m\"\u001b[39m, \u001b[38;5;241m5\u001b[39m))\n\u001b[0;32m      5\u001b[0m \u001b[38;5;28mprint\u001b[39m (mystr\u001b[38;5;241m.\u001b[39mindex(\u001b[38;5;124m\"\u001b[39m\u001b[38;5;124mins\u001b[39m\u001b[38;5;124m\"\u001b[39m, \u001b[38;5;241m11\u001b[39m, \u001b[38;5;241m14\u001b[39m))\n\u001b[1;32m----> 6\u001b[0m \u001b[38;5;28mprint\u001b[39m (\u001b[43mmystr\u001b[49m\u001b[38;5;241;43m.\u001b[39;49m\u001b[43mindex\u001b[49m\u001b[43m(\u001b[49m\u001b[38;5;124;43m\"\u001b[39;49m\u001b[38;5;124;43mins\u001b[39;49m\u001b[38;5;124;43m\"\u001b[39;49m\u001b[43m,\u001b[49m\u001b[43m \u001b[49m\u001b[38;5;241;43m11\u001b[39;49m\u001b[43m,\u001b[49m\u001b[43m \u001b[49m\u001b[38;5;241;43m13\u001b[39;49m\u001b[43m)\u001b[49m)\n",
      "\u001b[1;31mValueError\u001b[0m: substring not found"
     ]
    }
   ],
   "source": [
    "mystr = \"charity begins at home\"\n",
    "print (mystr.index(\"ity\"))\n",
    "print (mystr.index(\"i\", 3))\n",
    "print (mystr.index(\"i\", 5))\n",
    "print (mystr.index(\"ins\", 11, 14))\n",
    "print (mystr.index(\"ins\", 11, 13))"
   ]
  },
  {
   "cell_type": "code",
   "execution_count": null,
   "id": "450e02c2-32e6-417f-ad46-ea1295aa6d51",
   "metadata": {},
   "outputs": [],
   "source": []
  },
  {
   "cell_type": "code",
   "execution_count": 38,
   "id": "8bed385e-3c51-41d6-82fd-9bc914a7e903",
   "metadata": {},
   "outputs": [
    {
     "name": "stdout",
     "output_type": "stream",
     "text": [
      "    calcutta    university      31 <class 'str'> 2385522619968\n",
      "calcutta    university 22\n",
      "calcutta    university      27\n",
      "    calcutta    university 26\n",
      "calcutta    university 22\n",
      "calcutta    university      27\n",
      "    calcutta    university 26\n"
     ]
    }
   ],
   "source": [
    "mystr = \"    calcutta    university     \"\n",
    "print (mystr, len(mystr), type(mystr), id(mystr))\n",
    "print (mystr.strip(), len(mystr.strip()))\n",
    "print (mystr.lstrip(), len(mystr.lstrip()))\n",
    "print (mystr.rstrip(), len(mystr.rstrip()))\n",
    "print (mystr.strip(\" \"), len(mystr.strip(\" \")))\n",
    "print (mystr.lstrip(\" \"), len(mystr.lstrip(\" \")))\n",
    "print (mystr.rstrip(\" \"), len(mystr.rstrip(\" \")))"
   ]
  },
  {
   "cell_type": "code",
   "execution_count": 39,
   "id": "e9df8583-88d3-4405-9a65-67de66254e1a",
   "metadata": {},
   "outputs": [
    {
     "name": "stdout",
     "output_type": "stream",
     "text": [
      "##@@calcutta#@#@university#@@@# 31 <class 'str'> 2385522620768\n",
      "calcutta#@#@university 22\n",
      "calcutta#@#@university#@@@# 27\n",
      "##@@calcutta#@#@university 26\n"
     ]
    }
   ],
   "source": [
    "mystr = \"##@@calcutta#@#@university#@@@#\"\n",
    "print (mystr, len(mystr), type(mystr), id(mystr))\n",
    "print (mystr.strip(\"#@\"), len(mystr.strip(\"#@\")))\n",
    "print (mystr.lstrip(\"#@\"), len(mystr.lstrip(\"#@\")))\n",
    "print (mystr.rstrip(\"#@\"), len(mystr.rstrip(\"#@\")))"
   ]
  },
  {
   "cell_type": "code",
   "execution_count": 42,
   "id": "58aca37c-0281-42f3-bcbf-41f9d949c9f0",
   "metadata": {},
   "outputs": [
    {
     "name": "stdout",
     "output_type": "stream",
     "text": [
      "True\n",
      "False\n",
      "True\n",
      "True\n",
      "True\n",
      "False\n",
      "True\n"
     ]
    }
   ],
   "source": [
    "mystr = \"charity begins at home\"\n",
    "print (mystr.startswith(\"cha\"))\n",
    "print (mystr.startswith(\"beg\"))\n",
    "print (mystr.startswith(\"beg\", 8))\n",
    "print (mystr.startswith(\"beg\", 8, 20))\n",
    "print (mystr.endswith(\"ome\"))\n",
    "print (mystr.endswith(\"gins\"))\n",
    "print (mystr.endswith(\"gins\", 0, 14))"
   ]
  },
  {
   "cell_type": "code",
   "execution_count": 44,
   "id": "bbeb1b7e-a71c-45cb-b90d-458294cfd859",
   "metadata": {},
   "outputs": [
    {
     "name": "stdout",
     "output_type": "stream",
     "text": [
      "s\n",
      "c\n",
      "h\n",
      "o\n",
      "o\n",
      "l\n"
     ]
    }
   ],
   "source": [
    "mystr = \"school\"    # Reading character by character from a string\n",
    "for ch in mystr:\n",
    "    print (ch)"
   ]
  },
  {
   "cell_type": "code",
   "execution_count": 45,
   "id": "7b2342e6-8fe7-4c94-bc7a-c89c56bf1f57",
   "metadata": {},
   "outputs": [
    {
     "name": "stdout",
     "output_type": "stream",
     "text": [
      "s\n",
      "c\n",
      "h\n",
      "o\n",
      "o\n",
      "l\n"
     ]
    }
   ],
   "source": [
    "mystr = \"school\"    # Reading character by character from a string\n",
    "for i in range(len(mystr)):\n",
    "    print (mystr[i])"
   ]
  },
  {
   "cell_type": "code",
   "execution_count": 46,
   "id": "1a711c3e-619d-40ee-a24c-4bcb2e111da4",
   "metadata": {},
   "outputs": [
    {
     "name": "stdout",
     "output_type": "stream",
     "text": [
      "charity begins at home 22 <class 'str'> 2385511747696\n",
      "['charity', 'begins', 'at', 'home']\n",
      "['charity', 'begins', 'at', 'home']\n",
      "['char', 'ty beg', 'ns at home']\n"
     ]
    }
   ],
   "source": [
    "mystr = \"charity begins at home\"\n",
    "print (mystr, len(mystr), type(mystr), id(mystr))\n",
    "list1 = mystr.split()\n",
    "print (list1)\n",
    "list1 = mystr.split(\" \")\n",
    "print (list1)\n",
    "list1 = mystr.split(\"i\")\n",
    "print (list1)"
   ]
  },
  {
   "cell_type": "code",
   "execution_count": 47,
   "id": "bcff41fd-ed58-47f1-a211-9d6b3fb058c6",
   "metadata": {},
   "outputs": [
    {
     "name": "stdout",
     "output_type": "stream",
     "text": [
      "['charity', 'begins', 'at', 'home'] 4 <class 'list'> 2385513861952\n",
      "charity begins at home\n",
      "charity - begins - at - home\n",
      "charity, begins, at, home\n"
     ]
    }
   ],
   "source": [
    "list1 = ['charity', 'begins', 'at', 'home']\n",
    "print (list1, len(list1), type(list1), id(list1))\n",
    "mystr = \" \".join(list1)\n",
    "print (mystr)\n",
    "mystr = \" - \".join(list1)\n",
    "print (mystr)\n",
    "mystr = \", \".join(list1)\n",
    "print (mystr)"
   ]
  },
  {
   "cell_type": "code",
   "execution_count": 51,
   "id": "1d3d1628-893d-4658-9bfa-3024170d63dd",
   "metadata": {},
   "outputs": [
    {
     "name": "stdout",
     "output_type": "stream",
     "text": [
      "False True True\n",
      "True True False\n",
      "False True False\n",
      "False False False\n"
     ]
    }
   ],
   "source": [
    "mystr = \"1234\"\n",
    "print (mystr.isalpha(), mystr.isalnum(), mystr.isnumeric())\n",
    "mystr = \"abcd\"\n",
    "print (mystr.isalpha(), mystr.isalnum(), mystr.isnumeric())\n",
    "mystr = \"abcd1234\"\n",
    "print (mystr.isalpha(), mystr.isalnum(), mystr.isnumeric())\n",
    "mystr = \"abcd@1234\"\n",
    "print (mystr.isalpha(), mystr.isalnum(), mystr.isnumeric())"
   ]
  },
  {
   "cell_type": "code",
   "execution_count": 52,
   "id": "320a421d-20e7-44fa-98ef-66118a61fb92",
   "metadata": {},
   "outputs": [
    {
     "name": "stdout",
     "output_type": "stream",
     "text": [
      "2 1 0\n",
      "unxversxty\n",
      "university\n",
      "unxversxty\n"
     ]
    }
   ],
   "source": [
    "mystr = \"university\"\n",
    "print (mystr.count(\"i\"), mystr.count(\"v\"), mystr.count(\"I\"))\n",
    "print (mystr.replace(\"i\", \"x\"))\n",
    "print (mystr)\n",
    "mystr = mystr.replace(\"i\", \"x\")\n",
    "print (mystr)"
   ]
  },
  {
   "cell_type": "code",
   "execution_count": 53,
   "id": "34aeffde-7d46-4eee-b111-8810095ac926",
   "metadata": {
    "tags": []
   },
   "outputs": [
    {
     "name": "stdout",
     "output_type": "stream",
     "text": [
      "mississippi <class 'str'>\n",
      "['m', 'i', 's', 's', 'i', 's', 's', 'i', 'p', 'p', 'i']\n",
      "('m', 'i', 's', 's', 'i', 's', 's', 'i', 'p', 'p', 'i')\n",
      "{'p', 'm', 'i', 's'}\n",
      "frozenset({'p', 'm', 'i', 's'})\n"
     ]
    }
   ],
   "source": [
    "mystr = \"mississippi\"\n",
    "print (mystr, type(mystr))\n",
    "print (list(mystr))\n",
    "print (tuple(mystr))\n",
    "print (set(mystr))\n",
    "print (frozenset(mystr))"
   ]
  },
  {
   "cell_type": "markdown",
   "id": "a96f32d7-145d-48ad-b248-ece89b343ad1",
   "metadata": {},
   "source": [
    "## **List Processing**"
   ]
  },
  {
   "cell_type": "code",
   "execution_count": 1,
   "id": "17d5fa14-eddf-45eb-a20e-356555aaf235",
   "metadata": {},
   "outputs": [
    {
     "name": "stdout",
     "output_type": "stream",
     "text": [
      "[100, 400, 300, 200, 700] 5 <class 'list'> 2864609252416\n",
      "700 100\n",
      "1700 340.0\n"
     ]
    }
   ],
   "source": [
    "list1 = [100, 400, 300, 200, 700]\n",
    "print (list1, len(list1), type(list1), id(list1))\n",
    "print (max(list1), min(list1))\n",
    "print (sum(list1), sum(list1) / len(list1))"
   ]
  },
  {
   "cell_type": "code",
   "execution_count": 2,
   "id": "5b33fc9e-c797-4658-9d9b-c4302a123b5d",
   "metadata": {},
   "outputs": [
    {
     "name": "stdout",
     "output_type": "stream",
     "text": [
      "[100, 400, True, 300, 200, False, 700] 7 <class 'list'> 2864609253632\n",
      "700 False\n",
      "1701 243.0\n"
     ]
    }
   ],
   "source": [
    "list1 = [100, 400, True, 300, 200, False, 700]\n",
    "print (list1, len(list1), type(list1), id(list1))\n",
    "print (max(list1), min(list1))\n",
    "print (sum(list1), sum(list1) / len(list1))"
   ]
  },
  {
   "cell_type": "code",
   "execution_count": 3,
   "id": "86fd2b41-97b6-40e7-89a5-6f75f9682a18",
   "metadata": {},
   "outputs": [
    {
     "name": "stdout",
     "output_type": "stream",
     "text": [
      "[100, 400, True, 300.0, 200, False, 700] 7 <class 'list'> 2864608998720\n",
      "700 False\n",
      "1701.0 243.0\n"
     ]
    }
   ],
   "source": [
    "list1 = [100, 400, True, 300.0, 200, False, 700]\n",
    "print (list1, len(list1), type(list1), id(list1))\n",
    "print (max(list1), min(list1))\n",
    "print (sum(list1), sum(list1) / len(list1))"
   ]
  },
  {
   "cell_type": "code",
   "execution_count": 5,
   "id": "183f347b-586c-4b74-b13c-2aa18e584d89",
   "metadata": {},
   "outputs": [
    {
     "name": "stdout",
     "output_type": "stream",
     "text": [
      "['Sunday', 'monday', 'friday', 'saturday', 'tuesday'] 5 <class 'list'> 2864637595264\n",
      "tuesday Sunday\n"
     ]
    },
    {
     "ename": "TypeError",
     "evalue": "unsupported operand type(s) for +: 'int' and 'str'",
     "output_type": "error",
     "traceback": [
      "\u001b[1;31m---------------------------------------------------------------------------\u001b[0m",
      "\u001b[1;31mTypeError\u001b[0m                                 Traceback (most recent call last)",
      "Cell \u001b[1;32mIn[5], line 4\u001b[0m\n\u001b[0;32m      2\u001b[0m \u001b[38;5;28mprint\u001b[39m (list1, \u001b[38;5;28mlen\u001b[39m(list1), \u001b[38;5;28mtype\u001b[39m(list1), \u001b[38;5;28mid\u001b[39m(list1))\n\u001b[0;32m      3\u001b[0m \u001b[38;5;28mprint\u001b[39m (\u001b[38;5;28mmax\u001b[39m(list1), \u001b[38;5;28mmin\u001b[39m(list1))\n\u001b[1;32m----> 4\u001b[0m \u001b[38;5;28mprint\u001b[39m (\u001b[38;5;28;43msum\u001b[39;49m\u001b[43m(\u001b[49m\u001b[43mlist1\u001b[49m\u001b[43m)\u001b[49m, \u001b[38;5;28msum\u001b[39m(list1) \u001b[38;5;241m/\u001b[39m \u001b[38;5;28mlen\u001b[39m(list1))\n",
      "\u001b[1;31mTypeError\u001b[0m: unsupported operand type(s) for +: 'int' and 'str'"
     ]
    }
   ],
   "source": [
    "list1 = [\"Sunday\", \"monday\", 'friday', 'saturday', 'tuesday']\n",
    "print (list1, len(list1), type(list1), id(list1))\n",
    "print (max(list1), min(list1))\n",
    "print (sum(list1), sum(list1) / len(list1))"
   ]
  },
  {
   "cell_type": "code",
   "execution_count": 6,
   "id": "1a4259d0-5989-41a5-a599-c2a6cb210a67",
   "metadata": {},
   "outputs": [
    {
     "name": "stdout",
     "output_type": "stream",
     "text": [
      "[100, 400, True, 'Tuesday', 300, 'Wednesday', 200.0, False, 700] 9 <class 'list'> 2864637857408\n"
     ]
    },
    {
     "ename": "TypeError",
     "evalue": "'>' not supported between instances of 'str' and 'int'",
     "output_type": "error",
     "traceback": [
      "\u001b[1;31m---------------------------------------------------------------------------\u001b[0m",
      "\u001b[1;31mTypeError\u001b[0m                                 Traceback (most recent call last)",
      "Cell \u001b[1;32mIn[6], line 3\u001b[0m\n\u001b[0;32m      1\u001b[0m list1 \u001b[38;5;241m=\u001b[39m [\u001b[38;5;241m100\u001b[39m, \u001b[38;5;241m400\u001b[39m, \u001b[38;5;28;01mTrue\u001b[39;00m, \u001b[38;5;124m\"\u001b[39m\u001b[38;5;124mTuesday\u001b[39m\u001b[38;5;124m\"\u001b[39m, \u001b[38;5;241m300\u001b[39m, \u001b[38;5;124m\"\u001b[39m\u001b[38;5;124mWednesday\u001b[39m\u001b[38;5;124m\"\u001b[39m, \u001b[38;5;241m200.0\u001b[39m, \u001b[38;5;28;01mFalse\u001b[39;00m, \u001b[38;5;241m700\u001b[39m]\n\u001b[0;32m      2\u001b[0m \u001b[38;5;28mprint\u001b[39m (list1, \u001b[38;5;28mlen\u001b[39m(list1), \u001b[38;5;28mtype\u001b[39m(list1), \u001b[38;5;28mid\u001b[39m(list1))\n\u001b[1;32m----> 3\u001b[0m \u001b[38;5;28mprint\u001b[39m (\u001b[38;5;28;43mmax\u001b[39;49m\u001b[43m(\u001b[49m\u001b[43mlist1\u001b[49m\u001b[43m)\u001b[49m, \u001b[38;5;28mmin\u001b[39m(list1))\n\u001b[0;32m      4\u001b[0m \u001b[38;5;28mprint\u001b[39m (\u001b[38;5;28msum\u001b[39m(list1), \u001b[38;5;28msum\u001b[39m(list1) \u001b[38;5;241m/\u001b[39m \u001b[38;5;28mlen\u001b[39m(list1))\n",
      "\u001b[1;31mTypeError\u001b[0m: '>' not supported between instances of 'str' and 'int'"
     ]
    }
   ],
   "source": [
    "list1 = [100, 400, True, \"Tuesday\", 300, \"Wednesday\", 200.0, False, 700]\n",
    "print (list1, len(list1), type(list1), id(list1))\n",
    "print (max(list1), min(list1))\n",
    "print (sum(list1), sum(list1) / len(list1))"
   ]
  },
  {
   "cell_type": "code",
   "execution_count": 8,
   "id": "7d5b1844-7dfc-4db3-9fa6-514b11031f69",
   "metadata": {},
   "outputs": [
    {
     "name": "stdout",
     "output_type": "stream",
     "text": [
      "['Monday', 'Tuesday', 'Wednesday', 'Thursday', 'Friday'] 5 <class 'list'> 2864637971008\n",
      "Wednesday Wednesday Thursday Thursday\n",
      "nes nes\n",
      "['Friday', 'Thursday', 'Wednesday', 'Tuesday', 'Monday']\n"
     ]
    }
   ],
   "source": [
    "# Indexing and slicing\n",
    "# L ro R ->  0         1          2            3           4\n",
    "list1 =    [\"Monday\", \"Tuesday\", \"Wednesday\", \"Thursday\", \"Friday\"]\n",
    "# R to L -> -5        -4         -3           -2          -1\n",
    "print (list1, len(list1), type(list1), id(list1))\n",
    "print (list1[2], list1[-3], list1[3], list1[-2])  # indexing\n",
    "print (list1[2][3:6], list1[-3][-6:-3])           # slicing\n",
    "print (list1[::-1])"
   ]
  },
  {
   "cell_type": "code",
   "execution_count": 11,
   "id": "512be575-8033-4494-a23e-4f4b19ba16db",
   "metadata": {},
   "outputs": [
    {
     "name": "stdout",
     "output_type": "stream",
     "text": [
      "['Monday', 'Tuesday', 'Wednesday', 'Thursday', 'Friday'] 5\n",
      "['Mango', 'Pineapple', 'Guava', 'Lime'] 4\n",
      "['Monday', 'Tuesday', 'Wednesday', 'Thursday', 'Friday', 'Mango', 'Pineapple', 'Guava', 'Lime'] 9\n",
      "['Monday', 'Tuesday', 'Wednesday', 'Thursday', 'Friday', 'Mango', 'Pineapple', 'Guava', 'Lime'] 9\n",
      "['Mango', 'Pineapple', 'Guava', 'Lime'] 4\n"
     ]
    }
   ],
   "source": [
    "list1 = [\"Monday\", \"Tuesday\", \"Wednesday\", \"Thursday\", \"Friday\"]\n",
    "list2 = [\"Mango\", \"Pineapple\", \"Guava\", \"Lime\"]\n",
    "print (list1, len(list1))\n",
    "print (list2, len(list2))\n",
    "list3 = list1 + list2    # list concatenation\n",
    "print (list3, len(list3))\n",
    "list1.extend(list2)      # list concatenation\n",
    "print (list1, len(list1))\n",
    "print (list2, len(list2))"
   ]
  },
  {
   "cell_type": "code",
   "execution_count": 15,
   "id": "59b09fe1-9e57-4edb-b7f0-83497f10c2ac",
   "metadata": {},
   "outputs": [
    {
     "name": "stdout",
     "output_type": "stream",
     "text": [
      "['Monday', 'Tuesday', 'Wednesday', 'Thursday', 'Friday'] 5\n",
      "['Mango', 'Pineapple', 'Guava', 'Lime'] 4\n",
      "[['Monday', 'Tuesday', 'Wednesday', 'Thursday', 'Friday'], ['Mango', 'Pineapple', 'Guava', 'Lime']] 2\n",
      "['Monday', 'Tuesday', 'Wednesday', 'Thursday', 'Friday']\n",
      "['Mango', 'Pineapple', 'Guava', 'Lime']\n",
      "5 4\n",
      "['Pineapple', 'Guava'] ['Wednesday', 'Thursday'] nes\n"
     ]
    }
   ],
   "source": [
    "list1 = [\"Monday\", \"Tuesday\", \"Wednesday\", \"Thursday\", \"Friday\"]\n",
    "list2 = [\"Mango\", \"Pineapple\", \"Guava\", \"Lime\"]\n",
    "print (list1, len(list1))\n",
    "print (list2, len(list2))\n",
    "list3 = [list1, list2]      # list of lists\n",
    "print (list3, len(list3))\n",
    "print (list3[0])\n",
    "print (list3[1])\n",
    "print (len(list3[0]), len(list3[1]))\n",
    "print (list3[1][1:3], list3[0][2:4], list3[0][2][3:6])"
   ]
  },
  {
   "cell_type": "code",
   "execution_count": 16,
   "id": "f5f00061-998e-40ba-996e-d88557f7afeb",
   "metadata": {},
   "outputs": [
    {
     "name": "stdout",
     "output_type": "stream",
     "text": [
      "['Mango', 'Pineapple', 'Coconut', 'Banana', 'Lime'] 5\n",
      "['Mango', 'Pineapple', 'Coconut', 'Banana', 'Lime', 'Guava'] 6\n",
      "['Mango', 'Pineapple', 'Coconut', 'Banana', 'Lime', 'Guava', 'Apple'] 7\n",
      "['Mango', 'Pineapple', 'Coconut', 'Banana', 'Lime', 'Guava', 'Apple', 'Lemon'] 8\n"
     ]
    }
   ],
   "source": [
    "# insert operation on list\n",
    "list1 = ['Mango', 'Pineapple', 'Coconut', 'Banana', 'Lime']\n",
    "print (list1, len(list1))\n",
    "list1.append(\"Guava\")\n",
    "print (list1, len(list1))\n",
    "list1.append(\"Apple\")\n",
    "print (list1, len(list1))\n",
    "list1.append(\"Lemon\")\n",
    "print (list1, len(list1))"
   ]
  },
  {
   "cell_type": "code",
   "execution_count": 17,
   "id": "210646ea-b0c1-4c88-8fbe-fd0f64ea5377",
   "metadata": {},
   "outputs": [
    {
     "name": "stdout",
     "output_type": "stream",
     "text": [
      "['Mango', 'Pineapple', 'Coconut', 'Banana', 'Lime'] 5\n",
      "['Mango', 'Pineapple', 'Guava', 'Coconut', 'Banana', 'Lime'] 6\n",
      "['Mango', 'Apple', 'Pineapple', 'Guava', 'Coconut', 'Banana', 'Lime'] 7\n",
      "['Mango', 'Apple', 'Pineapple', 'Lemon', 'Guava', 'Coconut', 'Banana', 'Lime'] 8\n"
     ]
    }
   ],
   "source": [
    "list1 = ['Mango', 'Pineapple', 'Coconut', 'Banana', 'Lime']\n",
    "print (list1, len(list1))\n",
    "list1.insert(2, \"Guava\")\n",
    "print (list1, len(list1))\n",
    "list1.insert(1, \"Apple\")\n",
    "print (list1, len(list1))\n",
    "list1.insert(3, \"Lemon\")\n",
    "print (list1, len(list1))"
   ]
  },
  {
   "cell_type": "code",
   "execution_count": 18,
   "id": "742d8ee4-4bbe-42aa-9f6b-d1917ab737f5",
   "metadata": {},
   "outputs": [
    {
     "name": "stdout",
     "output_type": "stream",
     "text": [
      "['Mango', 'Pineapple', 'Coconut', 'Banana', 'Lime'] 5\n",
      "['Himsagar', 'Pineapple', 'Coconut', 'Banana', 'Lime'] 5\n",
      "['Himsagar', 'Pineapple', 'Coconut', 'Banana', 'Lemon'] 5\n"
     ]
    }
   ],
   "source": [
    "# update operation on list\n",
    "list1 = ['Mango', 'Pineapple', 'Coconut', 'Banana', 'Lime']\n",
    "print (list1, len(list1))\n",
    "list1[0] = \"Himsagar\"\n",
    "print (list1, len(list1))\n",
    "list1[4] = \"Lemon\"\n",
    "print (list1, len(list1))"
   ]
  },
  {
   "cell_type": "code",
   "execution_count": 22,
   "id": "e5da9f11-3683-45db-859b-8718a121e4d9",
   "metadata": {},
   "outputs": [
    {
     "name": "stdout",
     "output_type": "stream",
     "text": [
      "['Mango', 'Pineapple', 'Coconut', 'Banana', 'Mango', 'Lime'] 6\n",
      "['Pineapple', 'Coconut', 'Banana', 'Mango', 'Lime'] 5\n",
      "['Pineapple', 'Coconut', 'Mango', 'Lime'] 4\n"
     ]
    },
    {
     "ename": "ValueError",
     "evalue": "list.remove(x): x not in list",
     "output_type": "error",
     "traceback": [
      "\u001b[1;31m---------------------------------------------------------------------------\u001b[0m",
      "\u001b[1;31mValueError\u001b[0m                                Traceback (most recent call last)",
      "Cell \u001b[1;32mIn[22], line 8\u001b[0m\n\u001b[0;32m      6\u001b[0m list1\u001b[38;5;241m.\u001b[39mremove(\u001b[38;5;124m\"\u001b[39m\u001b[38;5;124mBanana\u001b[39m\u001b[38;5;124m\"\u001b[39m)\n\u001b[0;32m      7\u001b[0m \u001b[38;5;28mprint\u001b[39m (list1, \u001b[38;5;28mlen\u001b[39m(list1))\n\u001b[1;32m----> 8\u001b[0m \u001b[43mlist1\u001b[49m\u001b[38;5;241;43m.\u001b[39;49m\u001b[43mremove\u001b[49m\u001b[43m(\u001b[49m\u001b[38;5;124;43m\"\u001b[39;49m\u001b[38;5;124;43mBanana\u001b[39;49m\u001b[38;5;124;43m\"\u001b[39;49m\u001b[43m)\u001b[49m\n\u001b[0;32m      9\u001b[0m \u001b[38;5;28mprint\u001b[39m (list1, \u001b[38;5;28mlen\u001b[39m(list1))\n",
      "\u001b[1;31mValueError\u001b[0m: list.remove(x): x not in list"
     ]
    }
   ],
   "source": [
    "# deletion operation on list\n",
    "list1 = ['Mango', 'Pineapple', 'Coconut', 'Banana', 'Mango', 'Lime']\n",
    "print (list1, len(list1))\n",
    "list1.remove(\"Mango\")\n",
    "print (list1, len(list1))\n",
    "list1.remove(\"Banana\")\n",
    "print (list1, len(list1))\n",
    "list1.remove(\"Banana\")\n",
    "print (list1, len(list1))"
   ]
  },
  {
   "cell_type": "code",
   "execution_count": 23,
   "id": "35c109d9-3023-4681-9069-99378fd5928a",
   "metadata": {},
   "outputs": [
    {
     "name": "stdout",
     "output_type": "stream",
     "text": [
      "['Mango', 'Pineapple', 'Coconut', 'Banana', 'Lime'] 5\n",
      "Lime\n",
      "['Mango', 'Pineapple', 'Coconut', 'Banana'] 4\n",
      "Banana\n",
      "['Mango', 'Pineapple', 'Coconut'] 3\n",
      "Coconut\n",
      "['Mango', 'Pineapple'] 2\n"
     ]
    }
   ],
   "source": [
    "list1 = ['Mango', 'Pineapple', 'Coconut', 'Banana', 'Lime']\n",
    "print (list1, len(list1))\n",
    "print (list1.pop())\n",
    "print (list1, len(list1))\n",
    "print (list1.pop())\n",
    "print (list1, len(list1))\n",
    "print (list1.pop())\n",
    "print (list1, len(list1))"
   ]
  },
  {
   "cell_type": "code",
   "execution_count": 24,
   "id": "0fe5b133-94d1-49ab-addb-f792793d990f",
   "metadata": {},
   "outputs": [
    {
     "name": "stdout",
     "output_type": "stream",
     "text": [
      "['Mango', 'Pineapple', 'Coconut', 'Banana', 'Lime'] 5\n",
      "Coconut\n",
      "['Mango', 'Pineapple', 'Banana', 'Lime'] 4\n",
      "Mango\n",
      "['Pineapple', 'Banana', 'Lime'] 3\n",
      "Banana\n",
      "['Pineapple', 'Lime'] 2\n"
     ]
    }
   ],
   "source": [
    "list1 = ['Mango', 'Pineapple', 'Coconut', 'Banana', 'Lime']\n",
    "print (list1, len(list1))\n",
    "print (list1.pop(2))\n",
    "print (list1, len(list1))\n",
    "print (list1.pop(0))\n",
    "print (list1, len(list1))\n",
    "print (list1.pop(1))\n",
    "print (list1, len(list1))"
   ]
  },
  {
   "cell_type": "code",
   "execution_count": 25,
   "id": "b0638a42-da7b-4d9b-be6f-ad8eda323507",
   "metadata": {},
   "outputs": [
    {
     "name": "stdout",
     "output_type": "stream",
     "text": [
      "['Mango', 'Pineapple', 'Coconut', 'Banana', 'Lime'] 5\n",
      "[] 0\n"
     ]
    }
   ],
   "source": [
    "list1 = ['Mango', 'Pineapple', 'Coconut', 'Banana', 'Lime']\n",
    "print (list1, len(list1))\n",
    "list1.clear()\n",
    "print (list1, len(list1))"
   ]
  },
  {
   "cell_type": "code",
   "execution_count": 26,
   "id": "b215a679-6b88-42e1-8629-143133d92b06",
   "metadata": {},
   "outputs": [
    {
     "name": "stdout",
     "output_type": "stream",
     "text": [
      "['Mango', 'Pineapple', 'Coconut', 'Banana', 'Lime'] 5\n",
      "['Mango', 'Pineapple', 'Banana', 'Lime'] 4\n",
      "['Pineapple', 'Banana', 'Lime'] 3\n",
      "['Pineapple', 'Lime'] 2\n"
     ]
    }
   ],
   "source": [
    "list1 = ['Mango', 'Pineapple', 'Coconut', 'Banana', 'Lime']\n",
    "print (list1, len(list1))\n",
    "del list1[2]\n",
    "print (list1, len(list1))\n",
    "del list1[0]\n",
    "print (list1, len(list1))\n",
    "del list1[1]\n",
    "print (list1, len(list1))"
   ]
  },
  {
   "cell_type": "code",
   "execution_count": 27,
   "id": "79610244-9692-4ece-9cb0-afb22a6f252b",
   "metadata": {},
   "outputs": [
    {
     "name": "stdout",
     "output_type": "stream",
     "text": [
      "['Mango', 'Pineapple', 'Coconut', 'Banana', 'Lime'] 5\n"
     ]
    },
    {
     "ename": "NameError",
     "evalue": "name 'list1' is not defined",
     "output_type": "error",
     "traceback": [
      "\u001b[1;31m---------------------------------------------------------------------------\u001b[0m",
      "\u001b[1;31mNameError\u001b[0m                                 Traceback (most recent call last)",
      "Cell \u001b[1;32mIn[27], line 4\u001b[0m\n\u001b[0;32m      2\u001b[0m \u001b[38;5;28mprint\u001b[39m (list1, \u001b[38;5;28mlen\u001b[39m(list1))\n\u001b[0;32m      3\u001b[0m \u001b[38;5;28;01mdel\u001b[39;00m list1\n\u001b[1;32m----> 4\u001b[0m \u001b[38;5;28mprint\u001b[39m (\u001b[43mlist1\u001b[49m, \u001b[38;5;28mlen\u001b[39m(list1))\n",
      "\u001b[1;31mNameError\u001b[0m: name 'list1' is not defined"
     ]
    }
   ],
   "source": [
    "list1 = ['Mango', 'Pineapple', 'Coconut', 'Banana', 'Lime']\n",
    "print (list1, len(list1))\n",
    "del list1\n",
    "print (list1, len(list1))"
   ]
  },
  {
   "cell_type": "code",
   "execution_count": 31,
   "id": "c8c237b0-e4e1-4106-b121-7e4384e53b02",
   "metadata": {},
   "outputs": [
    {
     "name": "stdout",
     "output_type": "stream",
     "text": [
      "['Mango', 'Pineapple', 'Coconut', 'Banana', 'Lime'] 5\n",
      "['Lime', 'Banana', 'Coconut', 'Pineapple', 'Mango'] 5\n",
      "['Mango', 'Pineapple', 'Coconut', 'Banana', 'Lime'] 5\n"
     ]
    }
   ],
   "source": [
    "# reverse of a list\n",
    "list1 = ['Mango', 'Pineapple', 'Coconut', 'Banana', 'Lime']\n",
    "print (list1, len(list1))\n",
    "list1.reverse()\n",
    "print (list1, len(list1))\n",
    "list1 = list1[::-1]\n",
    "print (list1, len(list1))"
   ]
  },
  {
   "cell_type": "code",
   "execution_count": 35,
   "id": "08eae2ec-fdca-490c-aa38-790d20763280",
   "metadata": {},
   "outputs": [
    {
     "name": "stdout",
     "output_type": "stream",
     "text": [
      "['Mango', 'Pineapple', 'Coconut', 'Banana', 'Lime'] 5\n",
      "['Banana', 'Coconut', 'Lime', 'Mango', 'Pineapple'] 5\n"
     ]
    }
   ],
   "source": [
    "# sorting of a list\n",
    "list1 = ['Mango', 'Pineapple', 'Coconut', 'Banana', 'Lime']\n",
    "print (list1, len(list1))\n",
    "list1.sort()\n",
    "print (list1, len(list1))"
   ]
  },
  {
   "cell_type": "code",
   "execution_count": 33,
   "id": "15017ec2-c24a-438a-bc6e-231c41150678",
   "metadata": {},
   "outputs": [
    {
     "name": "stdout",
     "output_type": "stream",
     "text": [
      "['Mango', 'Pineapple', 'Coconut', 'Banana', 'Lime'] 5\n",
      "['Pineapple', 'Mango', 'Lime', 'Coconut', 'Banana'] 5\n"
     ]
    }
   ],
   "source": [
    "list1 = ['Mango', 'Pineapple', 'Coconut', 'Banana', 'Lime']\n",
    "print (list1, len(list1))\n",
    "list1.sort(reverse = True)\n",
    "print (list1, len(list1))"
   ]
  },
  {
   "cell_type": "code",
   "execution_count": 36,
   "id": "8246aaa1-5161-4e86-acba-5d0b40a28d4a",
   "metadata": {},
   "outputs": [
    {
     "name": "stdout",
     "output_type": "stream",
     "text": [
      "['Mango', 'Pineapple', 'Coconut', 'Banana', 'Lime'] 5\n",
      "['Banana', 'Coconut', 'Lime', 'Mango', 'Pineapple'] 5\n"
     ]
    }
   ],
   "source": [
    "list1 = ['Mango', 'Pineapple', 'Coconut', 'Banana', 'Lime']\n",
    "print (list1, len(list1))\n",
    "list1 = sorted(list1)\n",
    "print (list1, len(list1))"
   ]
  },
  {
   "cell_type": "code",
   "execution_count": 37,
   "id": "ddfa7cf3-8aee-44a4-b093-c2a4668deea9",
   "metadata": {},
   "outputs": [
    {
     "name": "stdout",
     "output_type": "stream",
     "text": [
      "['Mango', 'Pineapple', 'Coconut', 'Banana', 'Lime'] 5\n",
      "['Pineapple', 'Mango', 'Lime', 'Coconut', 'Banana'] 5\n"
     ]
    }
   ],
   "source": [
    "list1 = ['Mango', 'Pineapple', 'Coconut', 'Banana', 'Lime']\n",
    "print (list1, len(list1))\n",
    "list1 = sorted(list1, reverse = True)\n",
    "print (list1, len(list1))"
   ]
  },
  {
   "cell_type": "code",
   "execution_count": 41,
   "id": "cf2704ea-0773-437b-9c2b-2e936a16f623",
   "metadata": {},
   "outputs": [
    {
     "name": "stdout",
     "output_type": "stream",
     "text": [
      "['Mango', 'Pineapple', 'Coconut', 'Banana', 'Pineapple', 'Coconut', 'Banana', 'Lime'] 8\n",
      "2\n",
      "0\n",
      "1\n",
      "4\n"
     ]
    },
    {
     "ename": "ValueError",
     "evalue": "'Pineapple' is not in list",
     "output_type": "error",
     "traceback": [
      "\u001b[1;31m---------------------------------------------------------------------------\u001b[0m",
      "\u001b[1;31mValueError\u001b[0m                                Traceback (most recent call last)",
      "Cell \u001b[1;32mIn[41], line 7\u001b[0m\n\u001b[0;32m      5\u001b[0m \u001b[38;5;28mprint\u001b[39m (list1\u001b[38;5;241m.\u001b[39mindex(\u001b[38;5;124m\"\u001b[39m\u001b[38;5;124mPineapple\u001b[39m\u001b[38;5;124m\"\u001b[39m))\n\u001b[0;32m      6\u001b[0m \u001b[38;5;28mprint\u001b[39m (list1\u001b[38;5;241m.\u001b[39mindex(\u001b[38;5;124m\"\u001b[39m\u001b[38;5;124mPineapple\u001b[39m\u001b[38;5;124m\"\u001b[39m, \u001b[38;5;241m2\u001b[39m))\n\u001b[1;32m----> 7\u001b[0m \u001b[38;5;28mprint\u001b[39m (\u001b[43mlist1\u001b[49m\u001b[38;5;241;43m.\u001b[39;49m\u001b[43mindex\u001b[49m\u001b[43m(\u001b[49m\u001b[38;5;124;43m\"\u001b[39;49m\u001b[38;5;124;43mPineapple\u001b[39;49m\u001b[38;5;124;43m\"\u001b[39;49m\u001b[43m,\u001b[49m\u001b[43m \u001b[49m\u001b[38;5;241;43m5\u001b[39;49m\u001b[43m)\u001b[49m)\n",
      "\u001b[1;31mValueError\u001b[0m: 'Pineapple' is not in list"
     ]
    }
   ],
   "source": [
    "list1 = ['Mango', 'Pineapple', 'Coconut', 'Banana', 'Pineapple', 'Coconut', 'Banana', 'Lime']\n",
    "print (list1, len(list1))\n",
    "print (list1.count('Pineapple'))\n",
    "print (list1.count('pineapple'))\n",
    "print (list1.index(\"Pineapple\"))\n",
    "print (list1.index(\"Pineapple\", 2))\n",
    "print (list1.index(\"Pineapple\", 5))"
   ]
  },
  {
   "cell_type": "code",
   "execution_count": 43,
   "id": "ec1af2a5-c184-4e25-9689-20783375392d",
   "metadata": {},
   "outputs": [
    {
     "name": "stdout",
     "output_type": "stream",
     "text": [
      "[11, 22, 33, 44, 55, 66, 77, 88] 8 <class 'list'> 2864643804736\n",
      "[111, 122, 133, 144, 155, 166, 177, 188] 8 <class 'list'> 2864643804736\n",
      "[111, 122, 133, 144, 155, 166, 177, 188] 8 <class 'list'> 2864643804736\n"
     ]
    }
   ],
   "source": [
    "def list_function(llist):\n",
    "    for i in range(len(llist)):\n",
    "        llist[i] += 100\n",
    "    print (llist, len(llist), type(llist), id(llist))\n",
    "        \n",
    "list1 = [11, 22, 33, 44, 55, 66, 77, 88]\n",
    "print (list1, len(list1), type(list1), id(list1))\n",
    "list_function(list1)\n",
    "print (list1, len(list1), type(list1), id(list1))"
   ]
  },
  {
   "cell_type": "markdown",
   "id": "8ec67048-b4fc-4657-b72c-3190c2351966",
   "metadata": {},
   "source": [
    "## **Tuple Processing**"
   ]
  },
  {
   "cell_type": "code",
   "execution_count": 44,
   "id": "1c4b00d2-3a17-4d90-a415-d0f47f87757a",
   "metadata": {},
   "outputs": [
    {
     "name": "stdout",
     "output_type": "stream",
     "text": [
      "(100, 400, 300, 200, 700) 5 <class 'tuple'> 2864637745232\n",
      "700 100\n",
      "1700 340.0\n"
     ]
    }
   ],
   "source": [
    "tuple1 = (100, 400, 300, 200, 700)\n",
    "print (tuple1, len(tuple1), type(tuple1), id(tuple1))\n",
    "print (max(tuple1), min(tuple1))\n",
    "print (sum(tuple1), sum(tuple1) / len(tuple1))"
   ]
  },
  {
   "cell_type": "code",
   "execution_count": 45,
   "id": "15297efa-907b-483b-a28b-8e513875ed27",
   "metadata": {},
   "outputs": [
    {
     "name": "stdout",
     "output_type": "stream",
     "text": [
      "(100, 400, True, 300.5, 200, False, 700) 7 <class 'tuple'> 2864643210304\n",
      "700 False\n",
      "1701.5 243.07142857142858\n"
     ]
    }
   ],
   "source": [
    "tuple1 = (100, 400, True, 300.5, 200, False, 700)\n",
    "print (tuple1, len(tuple1), type(tuple1), id(tuple1))\n",
    "print (max(tuple1), min(tuple1))\n",
    "print (sum(tuple1), sum(tuple1) / len(tuple1))"
   ]
  },
  {
   "cell_type": "code",
   "execution_count": 46,
   "id": "9a0ffd1e-a887-4b31-befb-c443fe2ffce0",
   "metadata": {},
   "outputs": [
    {
     "name": "stdout",
     "output_type": "stream",
     "text": [
      "('sunday', 'monday', 'friday', 'saturday', 'tuesday') 5 <class 'tuple'> 2864637745232\n",
      "tuesday friday\n"
     ]
    },
    {
     "ename": "TypeError",
     "evalue": "unsupported operand type(s) for +: 'int' and 'str'",
     "output_type": "error",
     "traceback": [
      "\u001b[1;31m---------------------------------------------------------------------------\u001b[0m",
      "\u001b[1;31mTypeError\u001b[0m                                 Traceback (most recent call last)",
      "Cell \u001b[1;32mIn[46], line 4\u001b[0m\n\u001b[0;32m      2\u001b[0m \u001b[38;5;28mprint\u001b[39m (tuple1, \u001b[38;5;28mlen\u001b[39m(tuple1), \u001b[38;5;28mtype\u001b[39m(tuple1), \u001b[38;5;28mid\u001b[39m(tuple1))\n\u001b[0;32m      3\u001b[0m \u001b[38;5;28mprint\u001b[39m (\u001b[38;5;28mmax\u001b[39m(tuple1), \u001b[38;5;28mmin\u001b[39m(tuple1))\n\u001b[1;32m----> 4\u001b[0m \u001b[38;5;28mprint\u001b[39m (\u001b[38;5;28;43msum\u001b[39;49m\u001b[43m(\u001b[49m\u001b[43mtuple1\u001b[49m\u001b[43m)\u001b[49m, \u001b[38;5;28msum\u001b[39m(tuple1) \u001b[38;5;241m/\u001b[39m \u001b[38;5;28mlen\u001b[39m(tuple1))\n",
      "\u001b[1;31mTypeError\u001b[0m: unsupported operand type(s) for +: 'int' and 'str'"
     ]
    }
   ],
   "source": [
    "tuple1 = (\"sunday\", \"monday\", 'friday', 'saturday', 'tuesday')\n",
    "print (tuple1, len(tuple1), type(tuple1), id(tuple1))\n",
    "print (max(tuple1), min(tuple1))\n",
    "print (sum(tuple1), sum(tuple1) / len(tuple1))"
   ]
  },
  {
   "cell_type": "code",
   "execution_count": 47,
   "id": "0c2000d0-add2-4238-8c6c-2dbdd8f8b089",
   "metadata": {},
   "outputs": [
    {
     "name": "stdout",
     "output_type": "stream",
     "text": [
      "(100, 400, True, 'Tuesday', 300.0, 'Wednesday', 200, False, 700) 9 <class 'tuple'> 2864646652352\n"
     ]
    },
    {
     "ename": "TypeError",
     "evalue": "'>' not supported between instances of 'str' and 'int'",
     "output_type": "error",
     "traceback": [
      "\u001b[1;31m---------------------------------------------------------------------------\u001b[0m",
      "\u001b[1;31mTypeError\u001b[0m                                 Traceback (most recent call last)",
      "Cell \u001b[1;32mIn[47], line 3\u001b[0m\n\u001b[0;32m      1\u001b[0m tuple1 \u001b[38;5;241m=\u001b[39m (\u001b[38;5;241m100\u001b[39m, \u001b[38;5;241m400\u001b[39m, \u001b[38;5;28;01mTrue\u001b[39;00m, \u001b[38;5;124m\"\u001b[39m\u001b[38;5;124mTuesday\u001b[39m\u001b[38;5;124m\"\u001b[39m, \u001b[38;5;241m300.0\u001b[39m, \u001b[38;5;124m\"\u001b[39m\u001b[38;5;124mWednesday\u001b[39m\u001b[38;5;124m\"\u001b[39m, \u001b[38;5;241m200\u001b[39m, \u001b[38;5;28;01mFalse\u001b[39;00m, \u001b[38;5;241m700\u001b[39m)\n\u001b[0;32m      2\u001b[0m \u001b[38;5;28mprint\u001b[39m (tuple1, \u001b[38;5;28mlen\u001b[39m(tuple1), \u001b[38;5;28mtype\u001b[39m(tuple1), \u001b[38;5;28mid\u001b[39m(tuple1))\n\u001b[1;32m----> 3\u001b[0m \u001b[38;5;28mprint\u001b[39m (\u001b[38;5;28;43mmax\u001b[39;49m\u001b[43m(\u001b[49m\u001b[43mtuple1\u001b[49m\u001b[43m)\u001b[49m, \u001b[38;5;28mmin\u001b[39m(tuple1))\n\u001b[0;32m      4\u001b[0m \u001b[38;5;28mprint\u001b[39m (\u001b[38;5;28msum\u001b[39m(tuple1), \u001b[38;5;28msum\u001b[39m(tuple1) \u001b[38;5;241m/\u001b[39m \u001b[38;5;28mlen\u001b[39m(tuple1))\n",
      "\u001b[1;31mTypeError\u001b[0m: '>' not supported between instances of 'str' and 'int'"
     ]
    }
   ],
   "source": [
    "tuple1 = (100, 400, True, \"Tuesday\", 300.0, \"Wednesday\", 200, False, 700)\n",
    "print (tuple1, len(tuple1), type(tuple1), id(tuple1))\n",
    "print (max(tuple1), min(tuple1))\n",
    "print (sum(tuple1), sum(tuple1) / len(tuple1))"
   ]
  },
  {
   "cell_type": "code",
   "execution_count": 49,
   "id": "84d20d18-20b9-4ea8-be6f-9965cdf1282a",
   "metadata": {},
   "outputs": [
    {
     "name": "stdout",
     "output_type": "stream",
     "text": [
      "('Monday', 'Tuesday', 'Wednesday', 'Thursday', 'Friday') 5 <class 'tuple'> 2864646438352\n",
      "Wednesday Wednesday Thursday Thursday\n",
      "nes nes\n",
      "('Friday', 'Thursday', 'Wednesday', 'Tuesday', 'Monday')\n"
     ]
    }
   ],
   "source": [
    "# Indexing and slicing\n",
    "# L ro R ->   0         1          2            3           4\n",
    "tuple1 =    (\"Monday\", \"Tuesday\", \"Wednesday\", \"Thursday\", \"Friday\")\n",
    "# R to L ->  -5        -4         -3           -2          -1\n",
    "print (tuple1, len(tuple1), type(tuple1), id(tuple1))\n",
    "print (tuple1[2], tuple1[-3], tuple1[3], tuple1[-2])    # indexing\n",
    "print (tuple1[2][3:6], tuple1[-3][-6:-3])               # slicing\n",
    "print (tuple1[::-1])   # reverse"
   ]
  },
  {
   "cell_type": "code",
   "execution_count": 50,
   "id": "680aede9-613d-46f8-9872-6af8e10d8861",
   "metadata": {},
   "outputs": [
    {
     "name": "stdout",
     "output_type": "stream",
     "text": [
      "('Monday', 'Tuesday', 'Wednesday', 'Thursday', 'Friday') 5\n",
      "('Mango', 'Pineapple', 'Guava', 'Lime') 4\n",
      "('Monday', 'Tuesday', 'Wednesday', 'Thursday', 'Friday', 'Mango', 'Pineapple', 'Guava', 'Lime') 9\n",
      "(('Monday', 'Tuesday', 'Wednesday', 'Thursday', 'Friday'), ('Mango', 'Pineapple', 'Guava', 'Lime')) 2\n"
     ]
    }
   ],
   "source": [
    "tuple1 = (\"Monday\", \"Tuesday\", \"Wednesday\", \"Thursday\", \"Friday\")\n",
    "tuple2 = (\"Mango\", \"Pineapple\", \"Guava\", \"Lime\")\n",
    "print (tuple1, len(tuple1))\n",
    "print (tuple2, len(tuple2))\n",
    "tuple3 = tuple1 + tuple2    # tuple concatenation\n",
    "print (tuple3, len(tuple3))\n",
    "tuple3 = (tuple1, tuple2)   # tuple of tuples\n",
    "print (tuple3, len(tuple3))"
   ]
  },
  {
   "cell_type": "code",
   "execution_count": 51,
   "id": "fc639bad-f058-4195-9e81-d899f33e7be0",
   "metadata": {},
   "outputs": [
    {
     "name": "stdout",
     "output_type": "stream",
     "text": [
      "10 <class 'int'>\n",
      "(10,) <class 'tuple'>\n"
     ]
    }
   ],
   "source": [
    "var1 = (10)\n",
    "print (var1, type(var1))\n",
    "var1 = (10,)   # singleton representation of a tuple\n",
    "print (var1, type(var1))"
   ]
  },
  {
   "cell_type": "code",
   "execution_count": 53,
   "id": "50eadc83-de9a-4b47-b2d2-c828c91eb6a1",
   "metadata": {},
   "outputs": [
    {
     "name": "stdout",
     "output_type": "stream",
     "text": [
      "('Monday', 'Tuesday', 'Wednesday', 'Thursday', 'Friday') <class 'tuple'> 2864645194912\n",
      "['Monday', 'Saturday', 'Wednesday', 'Thursday', 'Friday'] <class 'list'> 2864644143680\n",
      "('Monday', 'Saturday', 'Wednesday', 'Thursday', 'Friday') <class 'tuple'> 2864643039104\n"
     ]
    }
   ],
   "source": [
    "# update operation on a tuple\n",
    "tuple1 = (\"Monday\", \"Tuesday\", \"Wednesday\", \"Thursday\", \"Friday\")\n",
    "print (tuple1, type(tuple1), id(tuple1))\n",
    "# tuple1[1] = 'Saturday'\n",
    "list1 = list(tuple1)\n",
    "list1[1] = 'Saturday'\n",
    "print (list1, type(list1), id(list1))\n",
    "tuple1 = tuple(list1)\n",
    "print (tuple1, type(tuple1), id(tuple1))"
   ]
  },
  {
   "cell_type": "code",
   "execution_count": 55,
   "id": "57c4abd8-01e9-4b13-99d5-cb74d5eb4469",
   "metadata": {},
   "outputs": [
    {
     "name": "stdout",
     "output_type": "stream",
     "text": [
      "('Monday', 'Tuesday', 'Wednesday', 'Thursday', 'Friday')\n",
      "('Friday', 'Monday', 'Thursday', 'Tuesday', 'Wednesday')\n",
      "('Wednesday', 'Tuesday', 'Thursday', 'Monday', 'Friday')\n"
     ]
    }
   ],
   "source": [
    "# sorting on a tuple\n",
    "tuple1 = (\"Monday\", \"Tuesday\", \"Wednesday\", \"Thursday\", \"Friday\")\n",
    "print (tuple1)\n",
    "tuple2 = tuple(sorted(tuple1))\n",
    "print (tuple2)\n",
    "tuple2 = tuple(sorted(tuple1, reverse=True))\n",
    "print (tuple2)"
   ]
  },
  {
   "cell_type": "code",
   "execution_count": 57,
   "id": "f7cab9d0-fe6e-4b4d-82c4-8c89575b94ba",
   "metadata": {},
   "outputs": [
    {
     "name": "stdout",
     "output_type": "stream",
     "text": [
      "('Mango', 'Pineapple', 'Coconut', 'Banana', 'Pineapple', 'Coconut', 'Banana', 'Lime')\n",
      "2 0 0\n"
     ]
    }
   ],
   "source": [
    "tuple1 = ('Mango', 'Pineapple', 'Coconut', 'Banana', 'Pineapple', 'Coconut', 'Banana', 'Lime')\n",
    "print (tuple1)\n",
    "print (tuple1.count('Pineapple'), tuple1.count('pineapple'), tuple1.count('Lemon'))"
   ]
  },
  {
   "cell_type": "code",
   "execution_count": 58,
   "id": "28b9dc2e-46c6-477f-a46a-a38d17745181",
   "metadata": {},
   "outputs": [
    {
     "name": "stdout",
     "output_type": "stream",
     "text": [
      "('Mango', 'Pineapple', 'Coconut', 'Banana', 'Pineapple', 'Coconut', 'Banana', 'Lime')\n",
      "1\n",
      "1\n",
      "4\n"
     ]
    },
    {
     "ename": "ValueError",
     "evalue": "tuple.index(x): x not in tuple",
     "output_type": "error",
     "traceback": [
      "\u001b[1;31m---------------------------------------------------------------------------\u001b[0m",
      "\u001b[1;31mValueError\u001b[0m                                Traceback (most recent call last)",
      "Cell \u001b[1;32mIn[58], line 6\u001b[0m\n\u001b[0;32m      4\u001b[0m \u001b[38;5;28mprint\u001b[39m (tuple1\u001b[38;5;241m.\u001b[39mindex(\u001b[38;5;124m\"\u001b[39m\u001b[38;5;124mPineapple\u001b[39m\u001b[38;5;124m\"\u001b[39m, \u001b[38;5;241m0\u001b[39m))\n\u001b[0;32m      5\u001b[0m \u001b[38;5;28mprint\u001b[39m (tuple1\u001b[38;5;241m.\u001b[39mindex(\u001b[38;5;124m\"\u001b[39m\u001b[38;5;124mPineapple\u001b[39m\u001b[38;5;124m\"\u001b[39m, \u001b[38;5;241m2\u001b[39m))\n\u001b[1;32m----> 6\u001b[0m \u001b[38;5;28mprint\u001b[39m (\u001b[43mtuple1\u001b[49m\u001b[38;5;241;43m.\u001b[39;49m\u001b[43mindex\u001b[49m\u001b[43m(\u001b[49m\u001b[38;5;124;43m\"\u001b[39;49m\u001b[38;5;124;43mPineapple\u001b[39;49m\u001b[38;5;124;43m\"\u001b[39;49m\u001b[43m,\u001b[49m\u001b[43m \u001b[49m\u001b[38;5;241;43m5\u001b[39;49m\u001b[43m)\u001b[49m)\n",
      "\u001b[1;31mValueError\u001b[0m: tuple.index(x): x not in tuple"
     ]
    }
   ],
   "source": [
    "tuple1 = ('Mango', 'Pineapple', 'Coconut', 'Banana', 'Pineapple', 'Coconut', 'Banana', 'Lime')\n",
    "print (tuple1)\n",
    "print (tuple1.index(\"Pineapple\"))\n",
    "print (tuple1.index(\"Pineapple\", 0))\n",
    "print (tuple1.index(\"Pineapple\", 2))\n",
    "print (tuple1.index(\"Pineapple\", 5))"
   ]
  },
  {
   "cell_type": "markdown",
   "id": "e97a0136-24b4-4874-a271-3ae67aefa821",
   "metadata": {},
   "source": [
    "## **Section-5**"
   ]
  },
  {
   "cell_type": "markdown",
   "id": "f76f4e1f-8213-4031-8bb4-db45f3aa3c42",
   "metadata": {},
   "source": [
    "## **Dictionary Processing**"
   ]
  },
  {
   "cell_type": "code",
   "execution_count": null,
   "id": "2f049078-8f60-4568-9648-c7959ef921dc",
   "metadata": {},
   "outputs": [],
   "source": []
  },
  {
   "cell_type": "code",
   "execution_count": null,
   "id": "89279f67-e03f-40d2-9d5a-9bb5cb13f4f0",
   "metadata": {},
   "outputs": [],
   "source": []
  },
  {
   "cell_type": "code",
   "execution_count": null,
   "id": "0e0dbd88-8d31-4294-a813-901576ba92ce",
   "metadata": {},
   "outputs": [],
   "source": []
  },
  {
   "cell_type": "code",
   "execution_count": null,
   "id": "ed4c9515-8b76-441a-84ec-8ed097a3e89b",
   "metadata": {},
   "outputs": [],
   "source": []
  },
  {
   "cell_type": "code",
   "execution_count": null,
   "id": "4ebc023d-1272-43f6-a160-9fb3b366b30f",
   "metadata": {},
   "outputs": [],
   "source": []
  },
  {
   "cell_type": "code",
   "execution_count": null,
   "id": "db5a59b8-4dc2-4327-86c6-a5316e796b9e",
   "metadata": {},
   "outputs": [],
   "source": []
  },
  {
   "cell_type": "markdown",
   "id": "0cb53bcc-5e1f-4870-9663-09086d2b0e72",
   "metadata": {},
   "source": [
    "## **Set Processing**"
   ]
  },
  {
   "cell_type": "code",
   "execution_count": null,
   "id": "5d4c4663-40df-4f59-b1d9-b9897264f58e",
   "metadata": {},
   "outputs": [],
   "source": []
  },
  {
   "cell_type": "code",
   "execution_count": null,
   "id": "b9c34dca-f171-417a-8b3e-3e320c51f22f",
   "metadata": {},
   "outputs": [],
   "source": []
  },
  {
   "cell_type": "code",
   "execution_count": null,
   "id": "b5c17e20-86aa-401b-9ef6-cab4ade72883",
   "metadata": {},
   "outputs": [],
   "source": []
  },
  {
   "attachments": {
    "SetOperations.png": {
     "image/png": "[encoded data removed]"
    }
   },
   "cell_type": "markdown",
   "id": "3a55a95f",
   "metadata": {},
   "source": [
    "![SetOperations.png](attachment:SetOperations.png)"
   ]
  },
  {
   "cell_type": "code",
   "execution_count": null,
   "id": "d321a248-eb62-4553-b4e8-b8ea87bb6e88",
   "metadata": {},
   "outputs": [],
   "source": []
  },
  {
   "cell_type": "code",
   "execution_count": null,
   "id": "404108bf-24a4-4060-9b39-fca53928df85",
   "metadata": {},
   "outputs": [],
   "source": []
  },
  {
   "cell_type": "markdown",
   "id": "089b635d-66d7-49c8-b8e0-03f6c7945938",
   "metadata": {},
   "source": [
    "## **Frozen Set Processing**"
   ]
  },
  {
   "cell_type": "code",
   "execution_count": null,
   "id": "df391602-d4e2-4b5c-a9f7-765359254e49",
   "metadata": {},
   "outputs": [],
   "source": []
  },
  {
   "cell_type": "code",
   "execution_count": null,
   "id": "7562e484-40a4-4e6a-9460-c3fa3e4f2b92",
   "metadata": {},
   "outputs": [],
   "source": []
  },
  {
   "cell_type": "code",
   "execution_count": null,
   "id": "ae513f14-97d3-4f15-9c2d-d0a6b52c9e5e",
   "metadata": {},
   "outputs": [],
   "source": []
  },
  {
   "cell_type": "code",
   "execution_count": null,
   "id": "ff3dcbff-2fac-4c12-8915-2d60c156cc08",
   "metadata": {},
   "outputs": [],
   "source": []
  },
  {
   "cell_type": "code",
   "execution_count": null,
   "id": "931c4254-cda4-49e4-b4eb-2bf9f1a3091e",
   "metadata": {},
   "outputs": [],
   "source": []
  },
  {
   "cell_type": "code",
   "execution_count": null,
   "id": "3873e6b6-2d40-4fc0-a021-b5581c27d249",
   "metadata": {},
   "outputs": [],
   "source": []
  },
  {
   "cell_type": "raw",
   "id": "ca99bf53-bfef-4f66-b6d4-eae17a63b9e9",
   "metadata": {},
   "source": [
    "27-Jan-2024 Sat\tPython Install and Input and Output\n",
    "30-Jan-2024 Tue\tPython operators and conditional statements\n",
    "09-Feb-2024 Fri\tPython Loops and Iterations\n",
    "23-Feb-2024 Fri\tUser Defined Function\n",
    "29-Feb-2024\tMath Module and String Processing\n",
    "09-Mar-2024\tList and Tuple\n",
    "\tDictionary\n",
    "\tSet and Frozen Set\n",
    "\tLambda Function\n",
    "\tException Handling\n",
    "\tOOP Day-1\n",
    "\tOOP Day-2 (Inheritance)\n",
    "\tOOP Day-3 (Operator Overloading)\n",
    "\tAbstract Class and Interface (OOP Complete)\n",
    "\tNumPy Day-1\n",
    "\tNumPy Day-2\n",
    "\tNumPy Day-3\n",
    "\tNumPy Day-4\n",
    "\tPandas - Series\n",
    "\tPandas - Data Frame - 1\n",
    "\tPandas - Data Frame - 2\n",
    "\tPandas - Data Frame - 3\n",
    "\tPandas - Data File Handling\n",
    "\tPandas - Data Visualization"
   ]
  }
 ],
 "metadata": {
  "kernelspec": {
   "display_name": "Python 3 (ipykernel)",
   "language": "python",
   "name": "python3"
  },
  "language_info": {
   "codemirror_mode": {
    "name": "ipython",
    "version": 3
   },
   "file_extension": ".py",
   "mimetype": "text/x-python",
   "name": "python",
   "nbconvert_exporter": "python",
   "pygments_lexer": "ipython3",
   "version": "3.10.9"
  }
 },
 "nbformat": 4,
 "nbformat_minor": 5
}
